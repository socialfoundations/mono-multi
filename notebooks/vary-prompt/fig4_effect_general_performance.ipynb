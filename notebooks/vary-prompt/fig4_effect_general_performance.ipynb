{
 "cells": [
  {
   "cell_type": "markdown",
   "id": "70b8edf2",
   "metadata": {},
   "source": [
    "# Varying the Prompt: Effect on Accuracy"
   ]
  },
  {
   "cell_type": "code",
   "execution_count": 1,
   "id": "81940b3d",
   "metadata": {},
   "outputs": [],
   "source": [
    "#%%\n",
    "%load_ext autoreload\n",
    "%autoreload 2"
   ]
  },
  {
   "cell_type": "code",
   "execution_count": null,
   "id": "fdbf3773",
   "metadata": {},
   "outputs": [
    {
     "name": "stderr",
     "output_type": "stream",
     "text": [
      "/Users/mgorecki/opt/miniconda3/envs/monoc-py311/lib/python3.11/site-packages/xport/__about__.py:18: UserWarning: pkg_resources is deprecated as an API. See https://setuptools.pypa.io/en/latest/pkg_resources.html. The pkg_resources package is slated for removal as early as 2025-11-30. Refrain from using this package or pin to Setuptools<81.\n",
      "  from pkg_resources import DistributionNotFound, get_distribution\n"
     ]
    }
   ],
   "source": [
    "import matplotlib.pyplot as plt\n",
    "import matplotlib as mpl\n",
    "import pandas as pd\n",
    "import numpy as np\n",
    "import logging\n",
    "\n",
    "from mono_multi.setup import (\n",
    "    variations,\n",
    "    variations_defaults,\n",
    "    FIGURES_ROOT_DIR,\n",
    ")\n",
    "from mono_multi.utils import (\n",
    "    get_size_and_it,\n",
    "    load_risk_scores,\n",
    "    load_results_overview,\n",
    "    load_data_if_needed,\n",
    "    filter_df_by_default_cond,\n",
    "    prettify_model_name, \n",
    "    key_to_model\n",
    ")"
   ]
  },
  {
   "cell_type": "code",
   "execution_count": 3,
   "id": "1edac6fe",
   "metadata": {},
   "outputs": [
    {
     "name": "stdout",
     "output_type": "stream",
     "text": [
      "tasks ['ACSIncome']\n"
     ]
    },
    {
     "data": {
      "text/plain": [
       "{'feature_order': ['default', 'rand 1', 'rand 2', 'rand 3', ' reversed'],\n",
       " 'format': ['bullet', 'text', 'comma'],\n",
       " 'connector': ['is', '=', ':'],\n",
       " 'granularity': ['original', 'low'],\n",
       " 'example_order': ['default', 'rand 1', 'rand 2', 'rand 3', 'reversed'],\n",
       " 'example_composition': ['10,0', '7,3', 'balanced', '3,7', '0,10']}"
      ]
     },
     "execution_count": 3,
     "metadata": {},
     "output_type": "execute_result"
    }
   ],
   "source": [
    "plot_config_file = \"./results/.matplotlibrc\"\n",
    "plt.rcParams.update(mpl.rc_params_from_file(fname=plot_config_file))\n",
    "\n",
    "FIGURES_PAPER_DIR = FIGURES_ROOT_DIR / \"paper-arxiv\" / \"vary-prompt\"\n",
    "TASKS = [\"ACSIncome\"]\n",
    "print(\"tasks\", TASKS)\n",
    "MODELS = [\n",
    "    \"Qwen--Qwen2.5-7B-Instruct\",\n",
    "    \"Qwen--Qwen2.5-72B-Instruct\",\n",
    "    \"meta-llama--Meta-Llama-3-8B-Instruct\",\n",
    "    \"meta-llama--Meta-Llama-3.3-70B-Instruct\",\n",
    "]\n",
    "variations"
   ]
  },
  {
   "cell_type": "markdown",
   "id": "aa8f4cff",
   "metadata": {},
   "source": [
    "## Load available models and variations"
   ]
  },
  {
   "cell_type": "code",
   "execution_count": 4,
   "id": "e282099d",
   "metadata": {},
   "outputs": [
    {
     "name": "stdout",
     "output_type": "stream",
     "text": [
      "'data_all' not yet defined\n",
      "ACSIncome\n"
     ]
    }
   ],
   "source": [
    "try:\n",
    "    data_all\n",
    "except NameError:\n",
    "    print(\"'data_all' not yet defined\")\n",
    "    data_all = load_data_if_needed(data=None, tasks=TASKS)\n",
    "else:\n",
    "    print(\"Already defined, update if needed.\")\n",
    "    data_all = load_data_if_needed(data=data_all, tasks=TASKS)"
   ]
  },
  {
   "cell_type": "markdown",
   "id": "f54bce3b",
   "metadata": {},
   "source": [
    "## Load predictions"
   ]
  },
  {
   "cell_type": "code",
   "execution_count": null,
   "id": "3cc4938e",
   "metadata": {},
   "outputs": [
    {
     "data": {
      "text/plain": [
       "(301, 19)"
      ]
     },
     "execution_count": 5,
     "metadata": {},
     "output_type": "execute_result"
    }
   ],
   "source": [
    "num_shots = 0\n",
    "threshold_fitted = True\n",
    "fit_threshold_for = 'balanced_accuracy'\n",
    "\n",
    "df = load_results_overview(\n",
    "    num_shots=num_shots, threshold_fitted=threshold_fitted, same_prompt=False\n",
    ")\n",
    "df = df[df[\"task\"].isin(TASKS)]\n",
    "df = df[df[\"model\"].isin(MODELS)]\n",
    "df = df[df[\"threshold_obj\"]==fit_threshold_for]\n",
    "\n",
    "df['predictions_path'] = '/Volumes/mgorecki/monoculture/' + df['predictions_path']\n",
    "df.shape"
   ]
  },
  {
   "cell_type": "code",
   "execution_count": 6,
   "id": "0cc714ec",
   "metadata": {},
   "outputs": [],
   "source": [
    "try:\n",
    "    assert set(TASKS).issubset(\n",
    "        set(df[\"task\"].unique())\n",
    "    ), f\"Results for all tasks to be analysed have to be available, available are: {list(df['task'].unique())} \"\n",
    "except AssertionError:\n",
    "    TASKS = list(df[\"task\"].unique())\n",
    "    logging.warning(f\"Reduced TASKS to available tasks: {TASKS}\")"
   ]
  },
  {
   "cell_type": "code",
   "execution_count": 7,
   "id": "6715344c",
   "metadata": {},
   "outputs": [
    {
     "name": "stdout",
     "output_type": "stream",
     "text": [
      "(301, 166469)\n"
     ]
    },
    {
     "data": {
      "text/html": [
       "<div>\n",
       "<style scoped>\n",
       "    .dataframe tbody tr th:only-of-type {\n",
       "        vertical-align: middle;\n",
       "    }\n",
       "\n",
       "    .dataframe tbody tr th {\n",
       "        vertical-align: top;\n",
       "    }\n",
       "\n",
       "    .dataframe thead th {\n",
       "        text-align: right;\n",
       "    }\n",
       "</style>\n",
       "<table border=\"1\" class=\"dataframe\">\n",
       "  <thead>\n",
       "    <tr style=\"text-align: right;\">\n",
       "      <th></th>\n",
       "      <th>task</th>\n",
       "      <th>model</th>\n",
       "      <th>is_inst</th>\n",
       "      <th>threshold_fitted</th>\n",
       "      <th>threshold</th>\n",
       "      <th>threshold_obj</th>\n",
       "      <th>accuracy</th>\n",
       "      <th>balanced_accuracy</th>\n",
       "      <th>bench_hash</th>\n",
       "      <th>num_shots</th>\n",
       "      <th>...</th>\n",
       "      <th>score_944636</th>\n",
       "      <th>score_675237</th>\n",
       "      <th>score_926337</th>\n",
       "      <th>score_2205318</th>\n",
       "      <th>score_3164791</th>\n",
       "      <th>score_43637</th>\n",
       "      <th>score_2494279</th>\n",
       "      <th>score_2989522</th>\n",
       "      <th>score_688458</th>\n",
       "      <th>score_1778641</th>\n",
       "    </tr>\n",
       "  </thead>\n",
       "  <tbody>\n",
       "    <tr>\n",
       "      <th>0</th>\n",
       "      <td>ACSIncome</td>\n",
       "      <td>Qwen--Qwen2.5-72B-Instruct</td>\n",
       "      <td>1</td>\n",
       "      <td>1</td>\n",
       "      <td>0.033094</td>\n",
       "      <td>balanced_accuracy</td>\n",
       "      <td>0.763755</td>\n",
       "      <td>0.772159</td>\n",
       "      <td>1339497723</td>\n",
       "      <td>0</td>\n",
       "      <td>...</td>\n",
       "      <td>0.025930</td>\n",
       "      <td>0.000011</td>\n",
       "      <td>0.999512</td>\n",
       "      <td>0.000296</td>\n",
       "      <td>0.002183</td>\n",
       "      <td>0.970743</td>\n",
       "      <td>0.000179</td>\n",
       "      <td>0.000031</td>\n",
       "      <td>0.999512</td>\n",
       "      <td>0.990329</td>\n",
       "    </tr>\n",
       "    <tr>\n",
       "      <th>1</th>\n",
       "      <td>ACSIncome</td>\n",
       "      <td>Qwen--Qwen2.5-72B-Instruct</td>\n",
       "      <td>1</td>\n",
       "      <td>1</td>\n",
       "      <td>0.008599</td>\n",
       "      <td>balanced_accuracy</td>\n",
       "      <td>0.775843</td>\n",
       "      <td>0.781488</td>\n",
       "      <td>642741645</td>\n",
       "      <td>0</td>\n",
       "      <td>...</td>\n",
       "      <td>0.002187</td>\n",
       "      <td>0.000046</td>\n",
       "      <td>0.999841</td>\n",
       "      <td>0.000805</td>\n",
       "      <td>0.915033</td>\n",
       "      <td>0.592476</td>\n",
       "      <td>0.000140</td>\n",
       "      <td>0.000231</td>\n",
       "      <td>0.998080</td>\n",
       "      <td>0.530303</td>\n",
       "    </tr>\n",
       "    <tr>\n",
       "      <th>2</th>\n",
       "      <td>ACSIncome</td>\n",
       "      <td>Qwen--Qwen2.5-72B-Instruct</td>\n",
       "      <td>1</td>\n",
       "      <td>1</td>\n",
       "      <td>0.007567</td>\n",
       "      <td>balanced_accuracy</td>\n",
       "      <td>0.760535</td>\n",
       "      <td>0.765280</td>\n",
       "      <td>419256548</td>\n",
       "      <td>0</td>\n",
       "      <td>...</td>\n",
       "      <td>0.007586</td>\n",
       "      <td>0.000075</td>\n",
       "      <td>0.999570</td>\n",
       "      <td>0.000335</td>\n",
       "      <td>0.000802</td>\n",
       "      <td>0.914676</td>\n",
       "      <td>0.000109</td>\n",
       "      <td>0.000097</td>\n",
       "      <td>0.997196</td>\n",
       "      <td>0.973932</td>\n",
       "    </tr>\n",
       "    <tr>\n",
       "      <th>3</th>\n",
       "      <td>ACSIncome</td>\n",
       "      <td>Qwen--Qwen2.5-72B-Instruct</td>\n",
       "      <td>1</td>\n",
       "      <td>1</td>\n",
       "      <td>0.244386</td>\n",
       "      <td>balanced_accuracy</td>\n",
       "      <td>0.776642</td>\n",
       "      <td>0.775290</td>\n",
       "      <td>3671207344</td>\n",
       "      <td>0</td>\n",
       "      <td>...</td>\n",
       "      <td>0.133028</td>\n",
       "      <td>0.000158</td>\n",
       "      <td>0.999842</td>\n",
       "      <td>0.014102</td>\n",
       "      <td>0.982008</td>\n",
       "      <td>0.962724</td>\n",
       "      <td>0.000381</td>\n",
       "      <td>0.000230</td>\n",
       "      <td>0.998081</td>\n",
       "      <td>0.530612</td>\n",
       "    </tr>\n",
       "    <tr>\n",
       "      <th>4</th>\n",
       "      <td>ACSIncome</td>\n",
       "      <td>Qwen--Qwen2.5-72B-Instruct</td>\n",
       "      <td>1</td>\n",
       "      <td>1</td>\n",
       "      <td>0.012454</td>\n",
       "      <td>balanced_accuracy</td>\n",
       "      <td>0.755176</td>\n",
       "      <td>0.767424</td>\n",
       "      <td>2269177329</td>\n",
       "      <td>0</td>\n",
       "      <td>...</td>\n",
       "      <td>0.010969</td>\n",
       "      <td>0.000075</td>\n",
       "      <td>0.999446</td>\n",
       "      <td>0.001506</td>\n",
       "      <td>0.002806</td>\n",
       "      <td>0.939908</td>\n",
       "      <td>0.000433</td>\n",
       "      <td>0.000295</td>\n",
       "      <td>0.998075</td>\n",
       "      <td>0.970641</td>\n",
       "    </tr>\n",
       "  </tbody>\n",
       "</table>\n",
       "<p>5 rows × 166469 columns</p>\n",
       "</div>"
      ],
      "text/plain": [
       "        task                       model  is_inst  threshold_fitted  \\\n",
       "0  ACSIncome  Qwen--Qwen2.5-72B-Instruct        1                 1   \n",
       "1  ACSIncome  Qwen--Qwen2.5-72B-Instruct        1                 1   \n",
       "2  ACSIncome  Qwen--Qwen2.5-72B-Instruct        1                 1   \n",
       "3  ACSIncome  Qwen--Qwen2.5-72B-Instruct        1                 1   \n",
       "4  ACSIncome  Qwen--Qwen2.5-72B-Instruct        1                 1   \n",
       "\n",
       "   threshold      threshold_obj  accuracy  balanced_accuracy  bench_hash  \\\n",
       "0   0.033094  balanced_accuracy  0.763755           0.772159  1339497723   \n",
       "1   0.008599  balanced_accuracy  0.775843           0.781488   642741645   \n",
       "2   0.007567  balanced_accuracy  0.760535           0.765280   419256548   \n",
       "3   0.244386  balanced_accuracy  0.776642           0.775290  3671207344   \n",
       "4   0.012454  balanced_accuracy  0.755176           0.767424  2269177329   \n",
       "\n",
       "   num_shots  ... score_944636 score_675237 score_926337 score_2205318  \\\n",
       "0          0  ...     0.025930     0.000011     0.999512      0.000296   \n",
       "1          0  ...     0.002187     0.000046     0.999841      0.000805   \n",
       "2          0  ...     0.007586     0.000075     0.999570      0.000335   \n",
       "3          0  ...     0.133028     0.000158     0.999842      0.014102   \n",
       "4          0  ...     0.010969     0.000075     0.999446      0.001506   \n",
       "\n",
       "  score_3164791 score_43637 score_2494279 score_2989522  score_688458  \\\n",
       "0      0.002183    0.970743      0.000179      0.000031      0.999512   \n",
       "1      0.915033    0.592476      0.000140      0.000231      0.998080   \n",
       "2      0.000802    0.914676      0.000109      0.000097      0.997196   \n",
       "3      0.982008    0.962724      0.000381      0.000230      0.998081   \n",
       "4      0.002806    0.939908      0.000433      0.000295      0.998075   \n",
       "\n",
       "   score_1778641  \n",
       "0       0.990329  \n",
       "1       0.530303  \n",
       "2       0.973932  \n",
       "3       0.530612  \n",
       "4       0.970641  \n",
       "\n",
       "[5 rows x 166469 columns]"
      ]
     },
     "metadata": {},
     "output_type": "display_data"
    }
   ],
   "source": [
    "risk_scores = (\n",
    "    df[\"predictions_path\"]\n",
    "    .apply(load_risk_scores)\n",
    "    .apply(lambda x: x.squeeze())\n",
    "    .add_prefix(\"score_\")\n",
    ")\n",
    "risk_scores.head()\n",
    "df_with_riskscores = pd.concat([df, risk_scores], axis=1)\n",
    "print(df_with_riskscores.shape)\n",
    "display(df_with_riskscores.head())\n",
    "\n",
    "df_with_predictions = df_with_riskscores.copy()\n",
    "model_wise_thresholds = df_with_predictions[\"threshold\"]\n",
    "df_with_predictions.update(\n",
    "    df_with_predictions.filter(like=\"score_\").apply(\n",
    "        lambda col: (col >= model_wise_thresholds).astype(int)\n",
    "    )\n",
    ")"
   ]
  },
  {
   "cell_type": "markdown",
   "id": "9c987161",
   "metadata": {},
   "source": [
    "## Aggregate Level: Check accuracy"
   ]
  },
  {
   "cell_type": "code",
   "execution_count": 8,
   "id": "ac7715ea",
   "metadata": {},
   "outputs": [],
   "source": [
    "models_to_plot = MODELS\n",
    "models_to_plot = sorted(models_to_plot, key=get_size_and_it)"
   ]
  },
  {
   "cell_type": "markdown",
   "id": "27ae3c40",
   "metadata": {},
   "source": [
    "### Scatter Plot: Fix one variation, others default"
   ]
  },
  {
   "cell_type": "code",
   "execution_count": 9,
   "id": "c90cef00",
   "metadata": {},
   "outputs": [],
   "source": [
    "df_all_default = filter_df_by_default_cond(df, default_cond=variations_defaults if num_shots==10 else {k:v for k,v in variations_defaults.items() if not k.startswith('example_')}, exclude_key=None)\n",
    "accs_all_default = df_all_default[[\"model\", \"accuracy\"]]\n",
    "assert df_all_default.shape[0] == len(MODELS)"
   ]
  },
  {
   "cell_type": "code",
   "execution_count": 10,
   "id": "55ea6e27",
   "metadata": {},
   "outputs": [
    {
     "name": "stdout",
     "output_type": "stream",
     "text": [
      "Qwen--Qwen2.5-7B-Instruct\n",
      "Qwen 2.5 7B (it) \t 0.75\t0.005\t0.033\n",
      "meta-llama--Meta-Llama-3-8B-Instruct\n",
      "Llama 3 8B (it)  \t 0.76\t0.002\t0.010\n",
      "meta-llama--Meta-Llama-3.3-70B-Instruct\n",
      "Llama 3.3 70B (it)\t 0.78\t0.004\t0.021\n",
      "Qwen--Qwen2.5-72B-Instruct\n",
      "Qwen 2.5 72B (it)\t 0.77\t0.004\t0.024\n",
      "Qwen--Qwen2.5-7B-Instruct\n",
      "Qwen 2.5 7B (it) \t 0.76\t0.003\t0.011\n",
      "meta-llama--Meta-Llama-3-8B-Instruct\n",
      "Llama 3 8B (it)  \t 0.75\t0.006\t0.024\n",
      "meta-llama--Meta-Llama-3.3-70B-Instruct\n",
      "Llama 3.3 70B (it)\t 0.78\t0.002\t0.010\n",
      "Qwen--Qwen2.5-72B-Instruct\n",
      "Qwen 2.5 72B (it)\t 0.77\t0.003\t0.011\n",
      "Qwen--Qwen2.5-7B-Instruct\n",
      "Qwen 2.5 7B (it) \t 0.75\t0.008\t0.029\n",
      "meta-llama--Meta-Llama-3-8B-Instruct\n",
      "Llama 3 8B (it)  \t 0.74\t0.005\t0.018\n",
      "meta-llama--Meta-Llama-3.3-70B-Instruct\n",
      "Llama 3.3 70B (it)\t 0.78\t0.003\t0.011\n",
      "Qwen--Qwen2.5-72B-Instruct\n",
      "Qwen 2.5 72B (it)\t 0.78\t0.002\t0.006\n",
      "Qwen--Qwen2.5-7B-Instruct\n",
      "Qwen 2.5 7B (it) \t 0.76\t0.006\t0.018\n",
      "meta-llama--Meta-Llama-3-8B-Instruct\n",
      "Llama 3 8B (it)  \t 0.76\t0.005\t0.014\n",
      "meta-llama--Meta-Llama-3.3-70B-Instruct\n",
      "Llama 3.3 70B (it)\t 0.78\t0.008\t0.022\n",
      "Qwen--Qwen2.5-72B-Instruct\n",
      "Qwen 2.5 72B (it)\t 0.77\t0.005\t0.014\n",
      "performance-0-shot-fix-one-default-rest-scatter_tresh_fitted\n"
     ]
    },
    {
     "data": {
      "image/png": "[encoded data removed]",
      "text/plain": [
       "<Figure size 550x90 with 4 Axes>"
      ]
     },
     "metadata": {},
     "output_type": "display_data"
    }
   ],
   "source": [
    "fig_width = plt.rcParams[\"figure.figsize\"][0]\n",
    "fig_height = 0.3*plt.rcParams['figure.figsize'][1]\n",
    "\n",
    "zero_shot_variations = [k for k in variations.keys() if ('example' not in k)]\n",
    "fig, axs = plt.subplots(\n",
    "    1,\n",
    "    len(variations.keys()) if num_shots==10 else len(zero_shot_variations),\n",
    "    figsize=(fig_width, fig_height),\n",
    "    # , constrained_layout=True,\n",
    "    sharey=True,\n",
    ")\n",
    "\n",
    "plot_all = False\n",
    "y_max, y_min = 0, 1\n",
    "\n",
    "for v, vary_variable in enumerate(variations_defaults.keys()):\n",
    "    if vary_variable not in zero_shot_variations and num_shots == 0:\n",
    "        continue\n",
    "    # vary only vary_variable, others default\n",
    "    df_vary_one = filter_df_by_default_cond(df, exclude_key=vary_variable, default_cond=variations_defaults if num_shots==10 else {k:v for k,v in variations_defaults.items() if not k.startswith('example_')})\n",
    "    alpha = 0.3\n",
    "\n",
    "    logging.debug(f\"{vary_variable}: {df_vary_one.shape[0]} samples\")\n",
    "\n",
    "    for i, model in enumerate(models_to_plot):\n",
    "        print(model)\n",
    "        accs = df_vary_one[df_vary_one[\"model\"] == model][\"accuracy\"].values\n",
    "\n",
    "        mean = accs.mean()\n",
    "        stderr = accs.std() / np.sqrt(len(accs))\n",
    "\n",
    "        y_max = max(y_max, accs.max())\n",
    "        y_min = min(y_min, accs.min())\n",
    "\n",
    "        print(\n",
    "            f\"{prettify_model_name(key_to_model(model)):17}\\t {mean:.2f}\\t{stderr:.3f}\\t{accs.max()-accs.min():.3f}\"\n",
    "        )\n",
    "\n",
    "        default_acc = accs_all_default[accs_all_default[\"model\"] == model][\n",
    "            \"accuracy\"\n",
    "        ].item()\n",
    "        axs[v].errorbar(i, mean, yerr=stderr, ls=\"None\", color=\"C0\", label=\"mean\")\n",
    "        axs[v].scatter(i, mean, color=\"C0\")\n",
    "        axs[v].scatter([i] * len(accs), accs, color=\"C0\", alpha=alpha)\n",
    "\n",
    "    axs[v].set_xticks(\n",
    "        np.arange(len(models_to_plot)),\n",
    "        [prettify_model_name(key_to_model(model)) for model in models_to_plot],\n",
    "        rotation=27 if num_shots==0 else 45,\n",
    "        ha=\"right\",\n",
    "        va=\"top\",\n",
    "    )\n",
    "    axs[v].set_title(vary_variable.replace(\"prompt_\", \" \" if num_shots==0 else \"\\n\").replace(\"_\", \" \" if num_shots==0 else \"\\n\"))\n",
    "    axs[v].set_xmargin(1 / len(models_to_plot))\n",
    "    axs[v].grid(True, linestyle='-', alpha=0.2)\n",
    "\n",
    "axs[0].set_ylabel(\"accuracy\")\n",
    "yticks = np.linspace(y_min, y_max, num=4)\n",
    "axs[0].set_yticks(yticks, [f\"{tick:.2}\" for tick in yticks])\n",
    "\n",
    "\n",
    "file_name = \"\".join(\n",
    "    [\n",
    "        f\"performance-{num_shots}-shot-fix-one-default-rest-scatter\",\n",
    "        \"_tresh_fitted\" if threshold_fitted == 1 else \"\",\n",
    "    ]\n",
    ")\n",
    "\n",
    "for ending in [\".svg\", \".pdf\"]:\n",
    "    plt.savefig(FIGURES_PAPER_DIR / f\"fig4_{file_name}{ending}\")\n",
    "print(file_name)\n",
    "\n",
    "plt.show()"
   ]
  },
  {
   "cell_type": "code",
   "execution_count": null,
   "id": "4dbc33e9",
   "metadata": {},
   "outputs": [],
   "source": []
  }
 ],
 "metadata": {
  "kernelspec": {
   "display_name": "monoc-py311",
   "language": "python",
   "name": "python3"
  },
  "language_info": {
   "codemirror_mode": {
    "name": "ipython",
    "version": 3
   },
   "file_extension": ".py",
   "mimetype": "text/x-python",
   "name": "python",
   "nbconvert_exporter": "python",
   "pygments_lexer": "ipython3",
   "version": "3.11.11"
  }
 },
 "nbformat": 4,
 "nbformat_minor": 5
}
