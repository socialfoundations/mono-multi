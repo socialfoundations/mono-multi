{
 "cells": [
  {
   "cell_type": "code",
   "execution_count": 1,
   "id": "7812c2c2",
   "metadata": {},
   "outputs": [],
   "source": [
    "#%%\n",
    "%load_ext autoreload\n",
    "%autoreload 2"
   ]
  },
  {
   "cell_type": "code",
   "execution_count": null,
   "id": "dbedf923",
   "metadata": {},
   "outputs": [
    {
     "name": "stderr",
     "output_type": "stream",
     "text": [
      "/Users/mgorecki/opt/miniconda3/envs/monoc-py311/lib/python3.11/site-packages/xport/__about__.py:18: UserWarning: pkg_resources is deprecated as an API. See https://setuptools.pypa.io/en/latest/pkg_resources.html. The pkg_resources package is slated for removal as early as 2025-11-30. Refrain from using this package or pin to Setuptools<81.\n",
      "  from pkg_resources import DistributionNotFound, get_distribution\n"
     ]
    }
   ],
   "source": [
    "import matplotlib.pyplot as plt\n",
    "import matplotlib as mpl\n",
    "import torch\n",
    "import pandas as pd\n",
    "from functools import partial\n",
    "import logging\n",
    "\n",
    "from mono_multi.setup import (\n",
    "    ACS_TASKS,\n",
    ")\n",
    "\n",
    "from mono_multi.utils import (\n",
    "    load_data_if_needed,\n",
    ")\n",
    "\n",
    "TASKS = ACS_TASKS"
   ]
  },
  {
   "cell_type": "markdown",
   "id": "bf044528",
   "metadata": {},
   "source": [
    "## How much do features of the tasks overlap?"
   ]
  },
  {
   "cell_type": "code",
   "execution_count": 7,
   "id": "6e7ef837",
   "metadata": {},
   "outputs": [],
   "source": [
    "\n",
    "from folktables import ACSIncome, ACSEmployment, ACSMobility, ACSPublicCoverage, ACSTravelTime"
   ]
  },
  {
   "cell_type": "code",
   "execution_count": 25,
   "id": "005f67d2",
   "metadata": {},
   "outputs": [
    {
     "name": "stdout",
     "output_type": "stream",
     "text": [
      "ACSIncome ACSEmployment\n",
      "\tcommon features: 6 vs difference at least: 4\n",
      "ACSIncome ACSMobility\n",
      "\tcommon features: 8 vs difference at least: 2\n",
      "ACSIncome ACSPublicCoverage\n",
      "\tcommon features: 5 vs difference at least: 5\n",
      "ACSIncome ACSTravelTime\n",
      "\tcommon features: 7 vs difference at least: 3\n",
      "ACSEmployment ACSMobility\n",
      "\tcommon features: 15 vs difference at least: 1\n",
      "ACSEmployment ACSPublicCoverage\n",
      "\tcommon features: 15 vs difference at least: 1\n",
      "ACSEmployment ACSTravelTime\n",
      "\tcommon features: 10 vs difference at least: 6\n",
      "ACSMobility ACSPublicCoverage\n",
      "\tcommon features: 16 vs difference at least: 5\n",
      "ACSMobility ACSTravelTime\n",
      "\tcommon features: 9 vs difference at least: 9\n",
      "ACSPublicCoverage ACSTravelTime\n",
      "\tcommon features: 10 vs difference at least: 9\n"
     ]
    },
    {
     "data": {
      "text/plain": [
       "{'AGEP', 'MAR', 'RAC1P', 'SCHL', 'SEX'}"
      ]
     },
     "execution_count": 25,
     "metadata": {},
     "output_type": "execute_result"
    }
   ],
   "source": [
    "from itertools import combinations  \n",
    "tasks_dict = {\"ACSIncome\": ACSIncome, \"ACSEmployment\": ACSEmployment, \"ACSMobility\": ACSMobility, \"ACSPublicCoverage\":ACSPublicCoverage, \"ACSTravelTime\": ACSTravelTime}\n",
    "for (t1,t2) in combinations(tasks_dict.keys(), 2):\n",
    "    print(t1, t2) \n",
    "    common_features = set(tasks_dict[t1].features).intersection(set(tasks_dict[t2].features))\n",
    "    num_different_features = min(len(set(tasks_dict[t1].features).difference(set(tasks_dict[t2].features))), len(set(tasks_dict[t2].features).intersection(set(tasks_dict[t1].features))))\n",
    "    print(f\"\\tcommon features: {len(common_features)} vs difference at least: {num_different_features}\")\n",
    "\n",
    "\n",
    "features = [set(task.features) for task in tasks_dict.values()]\n",
    "set.intersection(*features)"
   ]
  },
  {
   "cell_type": "markdown",
   "id": "c08d3a00",
   "metadata": {},
   "source": [
    "## Load Task Data"
   ]
  },
  {
   "cell_type": "code",
   "execution_count": 6,
   "id": "a41361cc",
   "metadata": {},
   "outputs": [
    {
     "name": "stdout",
     "output_type": "stream",
     "text": [
      "'data_all' not yet defined\n",
      "ACSIncome\n",
      "ACSEmployment\n",
      "ACSMobility\n",
      "ACSTravelTime\n",
      "ACSPublicCoverage\n",
      "ACSHealthInsurance\n",
      "ACSIncomePovertyRatio\n"
     ]
    }
   ],
   "source": [
    "try:\n",
    "    data_all\n",
    "except NameError:\n",
    "    print(\"'data_all' not yet defined\")\n",
    "    data_all = load_data_if_needed(data=None, tasks=TASKS)\n",
    "else:\n",
    "    print(\"Already defined, update if needed.\")\n",
    "    data_all = load_data_if_needed(data=data_all, tasks=TASKS)"
   ]
  },
  {
   "cell_type": "code",
   "execution_count": 29,
   "id": "67b12205",
   "metadata": {},
   "outputs": [
    {
     "name": "stdout",
     "output_type": "stream",
     "text": [
      "ACSIncome ACSEmployment\n",
      "\tcommon features: 16586\n",
      "ACSIncome ACSMobility\n",
      "\tcommon features: 5080\n",
      "ACSIncome ACSPublicCoverage\n",
      "\tcommon features: 6361\n",
      "ACSIncome ACSTravelTime\n",
      "\tcommon features: 14810\n",
      "ACSEmployment ACSMobility\n",
      "\tcommon features: 6222\n",
      "ACSEmployment ACSPublicCoverage\n",
      "\tcommon features: 11289\n",
      "ACSEmployment ACSTravelTime\n",
      "\tcommon features: 14754\n",
      "ACSMobility ACSPublicCoverage\n",
      "\tcommon features: 4091\n",
      "ACSMobility ACSTravelTime\n",
      "\tcommon features: 4268\n",
      "ACSPublicCoverage ACSTravelTime\n",
      "\tcommon features: 5097\n"
     ]
    }
   ],
   "source": [
    "for (t1,t2) in combinations(tasks_dict.keys(), 2):\n",
    "    print(t1, t2) \n",
    "    common_individuals = set(data_all[t1][1].index).intersection(set(data_all[t2][1].index))\n",
    "    print(f\"\\tcommon features: {len(common_individuals)}\")"
   ]
  },
  {
   "cell_type": "code",
   "execution_count": 30,
   "id": "9ed865fb",
   "metadata": {},
   "outputs": [
    {
     "data": {
      "text/plain": [
       "set()"
      ]
     },
     "execution_count": 30,
     "metadata": {},
     "output_type": "execute_result"
    }
   ],
   "source": [
    "features = [set(data_all[t][1].index) for t in tasks_dict.keys()]\n",
    "set.intersection(*features)"
   ]
  },
  {
   "cell_type": "code",
   "execution_count": 59,
   "id": "c9e3c343",
   "metadata": {},
   "outputs": [
    {
     "name": "stdout",
     "output_type": "stream",
     "text": [
      "2 - ACSIncome ACSEmployment\n",
      "16586 individuals in common\n",
      "\t 9.96% of ACSIncome\n",
      "\t 5.13% of ACSEmployment\n",
      "2 - ACSIncome ACSMobility\n",
      "5080 individuals in common\n",
      "\t 3.05% of ACSIncome\n",
      "\t 8.18% of ACSMobility\n",
      "2 - ACSIncome ACSPublicCoverage\n",
      "6361 individuals in common\n",
      "\t 3.82% of ACSIncome\n",
      "\t 5.59% of ACSPublicCoverage\n",
      "2 - ACSIncome ACSTravelTime\n",
      "14810 individuals in common\n",
      "\t 8.90% of ACSIncome\n",
      "\t 10.10% of ACSTravelTime\n",
      "2 - ACSEmployment ACSMobility\n",
      "6222 individuals in common\n",
      "\t 1.92% of ACSEmployment\n",
      "\t 10.02% of ACSMobility\n",
      "2 - ACSEmployment ACSPublicCoverage\n",
      "11289 individuals in common\n",
      "\t 3.49% of ACSEmployment\n",
      "\t 9.92% of ACSPublicCoverage\n",
      "2 - ACSEmployment ACSTravelTime\n",
      "14754 individuals in common\n",
      "\t 4.56% of ACSEmployment\n",
      "\t 10.06% of ACSTravelTime\n",
      "2 - ACSMobility ACSPublicCoverage\n",
      "4091 individuals in common\n",
      "\t 6.59% of ACSMobility\n",
      "\t 3.59% of ACSPublicCoverage\n",
      "2 - ACSMobility ACSTravelTime\n",
      "4268 individuals in common\n",
      "\t 6.87% of ACSMobility\n",
      "\t 2.91% of ACSTravelTime\n",
      "2 - ACSPublicCoverage ACSTravelTime\n",
      "5097 individuals in common\n",
      "\t 4.48% of ACSPublicCoverage\n",
      "\t 3.48% of ACSTravelTime\n",
      "3 - ACSIncome ACSEmployment ACSMobility\n",
      "538 individuals in common\n",
      "\t 0.32% of ACSIncome\n",
      "\t 0.17% of ACSEmployment\n",
      "\t 0.87% of ACSMobility\n",
      "3 - ACSIncome ACSEmployment ACSPublicCoverage\n",
      "631 individuals in common\n",
      "\t 0.38% of ACSIncome\n",
      "\t 0.19% of ACSEmployment\n",
      "\t 0.55% of ACSPublicCoverage\n",
      "3 - ACSIncome ACSEmployment ACSTravelTime\n",
      "1483 individuals in common\n",
      "\t 0.89% of ACSIncome\n",
      "\t 0.46% of ACSEmployment\n",
      "\t 1.01% of ACSTravelTime\n",
      "3 - ACSIncome ACSMobility ACSPublicCoverage\n",
      "275 individuals in common\n",
      "\t 0.17% of ACSIncome\n",
      "\t 0.44% of ACSMobility\n",
      "\t 0.24% of ACSPublicCoverage\n",
      "3 - ACSIncome ACSMobility ACSTravelTime\n",
      "455 individuals in common\n",
      "\t 0.27% of ACSIncome\n",
      "\t 0.73% of ACSMobility\n",
      "\t 0.31% of ACSTravelTime\n",
      "3 - ACSIncome ACSPublicCoverage ACSTravelTime\n",
      "500 individuals in common\n",
      "\t 0.30% of ACSIncome\n",
      "\t 0.44% of ACSPublicCoverage\n",
      "\t 0.34% of ACSTravelTime\n",
      "3 - ACSEmployment ACSMobility ACSPublicCoverage\n",
      "402 individuals in common\n",
      "\t 0.12% of ACSEmployment\n",
      "\t 0.65% of ACSMobility\n",
      "\t 0.35% of ACSPublicCoverage\n",
      "3 - ACSEmployment ACSMobility ACSTravelTime\n",
      "448 individuals in common\n",
      "\t 0.14% of ACSEmployment\n",
      "\t 0.72% of ACSMobility\n",
      "\t 0.31% of ACSTravelTime\n",
      "3 - ACSEmployment ACSPublicCoverage ACSTravelTime\n",
      "506 individuals in common\n",
      "\t 0.16% of ACSEmployment\n",
      "\t 0.44% of ACSPublicCoverage\n",
      "\t 0.35% of ACSTravelTime\n",
      "3 - ACSMobility ACSPublicCoverage ACSTravelTime\n",
      "233 individuals in common\n",
      "\t 0.38% of ACSMobility\n",
      "\t 0.20% of ACSPublicCoverage\n",
      "\t 0.16% of ACSTravelTime\n",
      "4 - ACSIncome ACSEmployment ACSMobility ACSPublicCoverage\n",
      "26 individuals in common\n",
      "\t 0.02% of ACSIncome\n",
      "\t 0.01% of ACSEmployment\n",
      "\t 0.04% of ACSMobility\n",
      "\t 0.02% of ACSPublicCoverage\n",
      "4 - ACSIncome ACSEmployment ACSMobility ACSTravelTime\n",
      "47 individuals in common\n",
      "\t 0.03% of ACSIncome\n",
      "\t 0.01% of ACSEmployment\n",
      "\t 0.08% of ACSMobility\n",
      "\t 0.03% of ACSTravelTime\n",
      "4 - ACSIncome ACSEmployment ACSPublicCoverage ACSTravelTime\n",
      "49 individuals in common\n",
      "\t 0.03% of ACSIncome\n",
      "\t 0.02% of ACSEmployment\n",
      "\t 0.04% of ACSPublicCoverage\n",
      "\t 0.03% of ACSTravelTime\n",
      "4 - ACSIncome ACSMobility ACSPublicCoverage ACSTravelTime\n",
      "22 individuals in common\n",
      "\t 0.01% of ACSIncome\n",
      "\t 0.04% of ACSMobility\n",
      "\t 0.02% of ACSPublicCoverage\n",
      "\t 0.02% of ACSTravelTime\n",
      "4 - ACSEmployment ACSMobility ACSPublicCoverage ACSTravelTime\n",
      "22 individuals in common\n",
      "\t 0.01% of ACSEmployment\n",
      "\t 0.04% of ACSMobility\n",
      "\t 0.02% of ACSPublicCoverage\n",
      "\t 0.02% of ACSTravelTime\n",
      "5 - ACSIncome ACSEmployment ACSMobility ACSPublicCoverage ACSTravelTime\n",
      "0 individuals in common\n",
      "\t 0.00% of ACSIncome\n",
      "\t 0.00% of ACSEmployment\n",
      "\t 0.00% of ACSMobility\n",
      "\t 0.00% of ACSPublicCoverage\n",
      "\t 0.00% of ACSTravelTime\n"
     ]
    }
   ],
   "source": [
    "from more_itertools import powerset\n",
    "for subset in powerset(tasks_dict.keys()):\n",
    "    if len(subset) > 1: \n",
    "        print(f\"{len(subset)} - {' '.join(subset)}\")\n",
    "        individuals = [set(data_all[t][1].index) for t in subset]\n",
    "        common = set.intersection(*individuals)\n",
    "        print(f\"{len(common)} individuals in common\")\n",
    "        for i,t in enumerate(subset): \n",
    "            print(f\"\\t {100*len(common)/len(individuals[i]):.2f}% of {t}\")"
   ]
  },
  {
   "cell_type": "code",
   "execution_count": 49,
   "id": "f52e8c19",
   "metadata": {},
   "outputs": [
    {
     "data": {
      "text/plain": [
       "323611"
      ]
     },
     "execution_count": 49,
     "metadata": {},
     "output_type": "execute_result"
    }
   ],
   "source": [
    "len(individuals[0])"
   ]
  },
  {
   "cell_type": "code",
   "execution_count": 51,
   "id": "9a9ffb9c",
   "metadata": {},
   "outputs": [
    {
     "data": {
      "text/plain": [
       "set()"
      ]
     },
     "execution_count": 51,
     "metadata": {},
     "output_type": "execute_result"
    }
   ],
   "source": [
    "common"
   ]
  },
  {
   "cell_type": "code",
   "execution_count": null,
   "id": "a327b7c3",
   "metadata": {},
   "outputs": [],
   "source": []
  }
 ],
 "metadata": {
  "kernelspec": {
   "display_name": "monoc-py311",
   "language": "python",
   "name": "python3"
  },
  "language_info": {
   "codemirror_mode": {
    "name": "ipython",
    "version": 3
   },
   "file_extension": ".py",
   "mimetype": "text/x-python",
   "name": "python",
   "nbconvert_exporter": "python",
   "pygments_lexer": "ipython3",
   "version": "3.11.11"
  }
 },
 "nbformat": 4,
 "nbformat_minor": 5
}
