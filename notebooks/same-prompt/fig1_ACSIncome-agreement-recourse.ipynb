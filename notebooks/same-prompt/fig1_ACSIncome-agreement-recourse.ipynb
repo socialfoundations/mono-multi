{
 "cells": [
  {
   "cell_type": "markdown",
   "id": "56a3b130",
   "metadata": {},
   "source": [
    "## Figure: Agreement and Recource"
   ]
  },
  {
   "cell_type": "code",
   "execution_count": 1,
   "id": "dbed1323",
   "metadata": {},
   "outputs": [],
   "source": [
    "#%%\n",
    "%load_ext autoreload\n",
    "%autoreload 2"
   ]
  },
  {
   "cell_type": "code",
   "execution_count": null,
   "id": "98fc845c",
   "metadata": {},
   "outputs": [],
   "source": [
    "import matplotlib.pyplot as plt\n",
    "import matplotlib as mpl\n",
    "import torch\n",
    "import pandas as pd\n",
    "import numpy as np\n",
    "from functools import partial\n",
    "import logging\n",
    "\n",
    "from mono_multi.setup import (\n",
    "    FIGURES_ROOT_DIR,\n",
    ")\n",
    "from mono_multi.metrics import (\n",
    "    matrix_pairwise_evals,\n",
    ")\n",
    "from mono_multi.utils import (\n",
    "    load_model_outputs_same_prompt,\n",
    "    get_size_and_it,\n",
    "    load_results_overview,\n",
    "    add_evals_to_df,\n",
    "    load_data_if_needed,\n",
    "    filter_results_all_tasks,\n",
    ")\n",
    "\n",
    "from mono_multi.plotting import (\n",
    "    plot_recourse_wrapper,\n",
    "    plot_agreement_wrapper,\n",
    "    configure_legend,\n",
    ")"
   ]
  },
  {
   "cell_type": "code",
   "execution_count": null,
   "id": "a8debd3a",
   "metadata": {},
   "outputs": [],
   "source": [
    "plot_config_file = \"./results/.matplotlibrc\"\n",
    "plt.rcParams.update(mpl.rc_params_from_file(fname=plot_config_file))\n",
    "\n",
    "FIGURES_PAPER_DIR = FIGURES_ROOT_DIR / \"same-prompt\"\n",
    "TASKS = [\"ACSIncome\"]"
   ]
  },
  {
   "cell_type": "code",
   "execution_count": 4,
   "id": "f091a187",
   "metadata": {},
   "outputs": [],
   "source": [
    "select_by = \"accuracy\"  #\n",
    "fit_threshold_for = \"balanced_accuracy\"  #'accuracy' #"
   ]
  },
  {
   "cell_type": "markdown",
   "id": "f809a7d6",
   "metadata": {},
   "source": [
    "## Load predictions ACSIncome"
   ]
  },
  {
   "cell_type": "code",
   "execution_count": null,
   "id": "f60c7c98",
   "metadata": {},
   "outputs": [
    {
     "data": {
      "text/plain": [
       "(50, 19)"
      ]
     },
     "execution_count": 5,
     "metadata": {},
     "output_type": "execute_result"
    }
   ],
   "source": [
    "num_shots = 0\n",
    "threshold_fitted = True\n",
    "\n",
    "df = load_results_overview(\n",
    "    num_shots=num_shots, threshold_fitted=threshold_fitted, same_prompt=True\n",
    ")\n",
    "df = df[df[\"task\"].isin(TASKS)]\n",
    "df = df[df[\"correct_order_bias\"] == 0]\n",
    "if threshold_fitted and (\"threshold_obj\" in df.columns):\n",
    "    df = df[df[\"threshold_obj\"] == fit_threshold_for]\n",
    "\n",
    "df[\"predictions_path\"] = \"/Volumes/mgorecki/monoculture/\" + df[\"predictions_path\"]\n",
    "\n",
    "df.shape"
   ]
  },
  {
   "cell_type": "code",
   "execution_count": 6,
   "id": "241808a3",
   "metadata": {},
   "outputs": [],
   "source": [
    "try:\n",
    "    assert set(TASKS).issubset(\n",
    "        set(df[\"task\"].unique())\n",
    "    ), f\"Results for all tasks to be analysed have to be available, available are: {list(df['task'].unique())} \"\n",
    "except AssertionError:\n",
    "    TASKS = list(df[\"task\"].unique())\n",
    "    logging.warning(f\"Reduced TASKS to available tasks: {TASKS}\")"
   ]
  },
  {
   "cell_type": "code",
   "execution_count": 7,
   "id": "04fe1e77",
   "metadata": {},
   "outputs": [
    {
     "name": "stdout",
     "output_type": "stream",
     "text": [
      "ACSIncome\n"
     ]
    }
   ],
   "source": [
    "predictions_all = load_model_outputs_same_prompt(\n",
    "    df, tasks=TASKS, return_risk_scores=False\n",
    ")\n",
    "\n",
    "df = add_evals_to_df(df)"
   ]
  },
  {
   "cell_type": "markdown",
   "id": "9cf2b86a",
   "metadata": {},
   "source": [
    "## Restrict analysis to models based on performance or true labels?"
   ]
  },
  {
   "cell_type": "code",
   "execution_count": 8,
   "id": "6e6ba55c",
   "metadata": {},
   "outputs": [
    {
     "name": "stdout",
     "output_type": "stream",
     "text": [
      "data not yet defined\n",
      "ACSIncome\n"
     ]
    }
   ],
   "source": [
    "try:\n",
    "    data_all\n",
    "except NameError:\n",
    "    print(\"data not yet defined\")\n",
    "    data_all = load_data_if_needed(data=None, tasks=TASKS)\n",
    "else:\n",
    "    print(\"Already defined, update if needed.\")\n",
    "    data_all = load_data_if_needed(data=data_all, tasks=TASKS)"
   ]
  },
  {
   "cell_type": "code",
   "execution_count": 9,
   "id": "7c8a52c9",
   "metadata": {},
   "outputs": [
    {
     "name": "stdout",
     "output_type": "stream",
     "text": [
      "ACSIncome\n",
      "- before: (166450, 50)\n",
      "Using accuracy for comparison.\n",
      "- after: (61233, 27)\n"
     ]
    }
   ],
   "source": [
    "restrict_to_better_const = True\n",
    "restrict_to_positive_label = True\n",
    "restrict_to_negative_label = False\n",
    "restrict_to_top_eps = True\n",
    "eps = 0.05\n",
    "restrict_to_topk = False\n",
    "topk = 10\n",
    "\n",
    "predictions, data = filter_results_all_tasks(\n",
    "    predictions=predictions_all.copy(),\n",
    "    df=df,\n",
    "    data={t: val for t, val in data_all.items() if t in TASKS},\n",
    "    tasks=TASKS,\n",
    "    restrict_to_better_const=restrict_to_better_const,\n",
    "    restrict_to_positive_label=restrict_to_positive_label,\n",
    "    restrict_to_negative_label=restrict_to_negative_label,\n",
    "    restrict_to_top_eps=restrict_to_top_eps,\n",
    "    restrict_to_topk=restrict_to_topk,\n",
    "    eps=eps,\n",
    "    topk=topk,\n",
    "    acc=select_by,\n",
    ")"
   ]
  },
  {
   "cell_type": "markdown",
   "id": "2e456a21",
   "metadata": {},
   "source": [
    "## Plot"
   ]
  },
  {
   "cell_type": "code",
   "execution_count": 10,
   "id": "e4000265",
   "metadata": {},
   "outputs": [],
   "source": [
    "# helpers\n",
    "def build_filename():\n",
    "    parts = [\n",
    "        f\"agreement-recourse-{num_shots}-shot\",\n",
    "        f\"-{TASKS[0]}\",\n",
    "        (\n",
    "            f\"_selected_by-{select_by.replace('_','-')}\"\n",
    "            f\"_tresh_fitted-{fit_threshold_for.replace('_','-')}\"\n",
    "            if threshold_fitted\n",
    "            else \"\"\n",
    "        ),\n",
    "        \"_better_const\" if restrict_to_better_const else \"\",\n",
    "        \"_pos_instances\" if restrict_to_positive_label else \"\",\n",
    "        \"_neg_instances\" if restrict_to_negative_label else \"\",\n",
    "        f\"_eps{str(eps).replace('.', '_')}\" if restrict_to_top_eps else \"\",\n",
    "        f\"_top{topk}\" if restrict_to_topk else \"\",\n",
    "    ]\n",
    "    return \"\".join(parts)"
   ]
  },
  {
   "cell_type": "code",
   "execution_count": 11,
   "id": "25e0b61a",
   "metadata": {},
   "outputs": [
    {
     "name": "stdout",
     "output_type": "stream",
     "text": [
      "mean agreement: 0.8837\n",
      "mean agreement at random: 0.6366\n",
      "agreement-recourse-0-shot-ACSIncome_selected_by-accuracy_tresh_fitted-balanced-accuracy_better_const_pos_instances_eps0_05\n"
     ]
    },
    {
     "data": {
      "image/png": "[encoded data removed]",
      "text/plain": [
       "<Figure size 319x180 with 2 Axes>"
      ]
     },
     "metadata": {},
     "output_type": "display_data"
    }
   ],
   "source": [
    "tasks_to_plot = TASKS\n",
    "selection_by = \"accuracy\"\n",
    "\n",
    "# fig_width = plt.rcParams[\"figure.figsize\"][0]\n",
    "# fig_height = 2 if num_shots == 0 else 1.5\n",
    "fig_width = 0.58* plt.rcParams[\"figure.figsize\"][0]  # * 2 * (2/6) * (8/5)\n",
    "fig_height = 0.6 * plt.rcParams[\"figure.figsize\"][1]  # 0.8*\n",
    "\n",
    "fig, axs = plt.subplots(\n",
    "    1,\n",
    "    2,\n",
    "    figsize=(fig_width, fig_height),\n",
    "    constrained_layout=True,\n",
    "    gridspec_kw={\"width_ratios\": [3/ 10, 7 / 10]}, #, \"wspace\": 0.075},\n",
    ")\n",
    "\n",
    "for i, task in enumerate(tasks_to_plot):\n",
    "    # agreement\n",
    "    mask = (df[\"task\"] == task) & (df[\"model\"].isin(predictions[task].columns))\n",
    "    axs[0], agreement_data = plot_agreement_wrapper(\n",
    "        axs[0], predictions=predictions[task], df = df[mask], xlabel=\"fraction model pairs\"\n",
    "    )\n",
    "    print(f\"mean agreement: {agreement_data['observed'].agreement.mean():.4f}\")\n",
    "    print(\n",
    "        f\"mean agreement at random: {agreement_data['baseline'].agreement.mean():.4f}\"\n",
    "    )\n",
    "\n",
    "    # recourse\n",
    "    axs[1], observed, at_random = plot_recourse_wrapper(\n",
    "        axs[1],\n",
    "        predictions=predictions[task],\n",
    "        df=df[mask],\n",
    "        bootstrap=False,\n",
    "        ylabel=\"fraction positive predictions\",\n",
    "        xlabel=\"fraction positive instances\"\n",
    "    )\n",
    "    # configure_legend(fig, axs, offset=0.24)\n",
    "# fig.suptitle('ACSIncome')\n",
    "\n",
    "file_name = build_filename()\n",
    "for ending in [\".svg\", \".pdf\"]:\n",
    "    plt.savefig(FIGURES_PAPER_DIR / f\"fig1_{file_name}{ending}\")\n",
    "print(file_name)\n",
    "\n",
    "plt.show()"
   ]
  },
  {
   "cell_type": "markdown",
   "id": "bd984b7d",
   "metadata": {},
   "source": [
    "#### What is the maximum agreement models of different accuracy can achieve?"
   ]
  },
  {
   "cell_type": "markdown",
   "id": "a6346830",
   "metadata": {},
   "source": []
  },
  {
   "cell_type": "code",
   "execution_count": null,
   "id": "7321ca5a",
   "metadata": {},
   "outputs": [
    {
     "data": {
      "text/plain": [
       "<matplotlib.legend.Legend at 0x42619fc10>"
      ]
     },
     "execution_count": 12,
     "metadata": {},
     "output_type": "execute_result"
    },
    {
     "data": {
      "image/png": "[encoded data removed]",
      "text/plain": [
       "<Figure size 550x300 with 1 Axes>"
      ]
     },
     "metadata": {},
     "output_type": "display_data"
    }
   ],
   "source": [
    "from itertools import combinations_with_replacement\n",
    "from mono_multi.analysis.metrics import get_observed_pairwise_agreement_rate\n",
    "from mono_multi.analysis.plotting import build_agreement_curve\n",
    "\n",
    "\n",
    "mask = (df[\"task\"] == task) & (df[\"model\"].isin(predictions[task].columns))\n",
    "acc_df = df[mask][[\"model\", 'accuracy']].set_index(\"model\").T\n",
    "accs = acc_df.values.squeeze()\n",
    "\n",
    "idx_pairs = list(combinations_with_replacement(range(len(accs)), 2))\n",
    "max_agree = [1- abs(accs[i] -  accs[j]) for i,j in idx_pairs if i!=j]\n",
    "\n",
    "observed_agreement = build_agreement_curve(model_data=predictions[task], pairwise_fun=get_observed_pairwise_agreement_rate)\n",
    "plt.plot(observed_agreement, label = 'observed agreement')\n",
    "plt.plot(sorted(max_agree), label='max agreement')\n",
    "plt.legend()\n"
   ]
  },
  {
   "cell_type": "code",
   "execution_count": 13,
   "id": "a45d6f9c",
   "metadata": {},
   "outputs": [],
   "source": [
    "from monoculture.analysis.utils import apply_cumulative\n",
    "\n",
    "# get CDF values\n",
    "obs_cdf = apply_cumulative(observed[:, 0])\n",
    "baseline_cdf = apply_cumulative(at_random[:, 0])"
   ]
  },
  {
   "cell_type": "code",
   "execution_count": 14,
   "id": "f02440b1",
   "metadata": {},
   "outputs": [
    {
     "name": "stdout",
     "output_type": "stream",
     "text": [
      "Observed: 19.97% of individuals are accepted by at most 48.15% of the models.\n",
      "Baseline: 0.05% of individuals are accepted by at most 48.15% of the models.\n"
     ]
    }
   ],
   "source": [
    "# fraction of individuals rejected by more than half\n",
    "# observed (frac_individuals, frac_models) - sorted by model fraction\n",
    "print(\n",
    "    f\"Observed: {obs_cdf[observed[:, 1] <= 0.5][-1].item()*100:.2f}% of individuals are accepted by at most {observed[observed[:, 1] <= 0.5][-1, 1]*100:.2f}% of the models.\"\n",
    ")\n",
    "print(\n",
    "    f\"Baseline: {baseline_cdf[at_random[:, 1] <= 0.5][-1].item()*100:.2f}% of individuals are accepted by at most {at_random[at_random[:, 1] <= 0.5][-1, 1]*100:.2f}% of the models.\"\n",
    ")"
   ]
  },
  {
   "cell_type": "code",
   "execution_count": 15,
   "id": "786acfea",
   "metadata": {},
   "outputs": [
    {
     "name": "stdout",
     "output_type": "stream",
     "text": [
      "Observed: 19.97% of individuals are accepted by at most 48.15% of the models.\n",
      "Baseline: 10.86% of individuals are accepted by at most 66.67% of the models.\n"
     ]
    }
   ],
   "source": [
    "# check for lower 20% of individuals\n",
    "print(\n",
    "    f\"Observed: {obs_cdf[obs_cdf <= 0.2][-1].item()*100:.2f}% of individuals are accepted by at most {observed[obs_cdf <= 0.2][-1, 1]*100:.2f}% of the models.\"\n",
    ")\n",
    "print(\n",
    "    f\"Baseline: {baseline_cdf[baseline_cdf <= 0.2][-1].item()*100:.2f}% of individuals are accepted by at most {at_random[baseline_cdf <= 0.2][-1, 1]*100:.2f}% of the models.\"\n",
    ")"
   ]
  },
  {
   "cell_type": "code",
   "execution_count": null,
   "id": "a00c92bb",
   "metadata": {},
   "outputs": [],
   "source": []
  }
 ],
 "metadata": {
  "kernelspec": {
   "display_name": "monoc-py311",
   "language": "python",
   "name": "python3"
  },
  "language_info": {
   "codemirror_mode": {
    "name": "ipython",
    "version": 3
   },
   "file_extension": ".py",
   "mimetype": "text/x-python",
   "name": "python",
   "nbconvert_exporter": "python",
   "pygments_lexer": "ipython3",
   "version": "3.11.11"
  }
 },
 "nbformat": 4,
 "nbformat_minor": 5
}
