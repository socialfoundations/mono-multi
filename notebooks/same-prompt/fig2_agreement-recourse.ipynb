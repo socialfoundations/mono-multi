{
 "cells": [
  {
   "cell_type": "markdown",
   "id": "56a3b130",
   "metadata": {},
   "source": [
    "## Figure: Agreement and Recource"
   ]
  },
  {
   "cell_type": "code",
   "execution_count": 1,
   "id": "dbed1323",
   "metadata": {},
   "outputs": [],
   "source": [
    "#%%\n",
    "%load_ext autoreload\n",
    "%autoreload 2"
   ]
  },
  {
   "cell_type": "code",
   "execution_count": null,
   "id": "98fc845c",
   "metadata": {},
   "outputs": [
    {
     "name": "stderr",
     "output_type": "stream",
     "text": [
      "/Users/mgorecki/opt/miniconda3/envs/monoc-py311/lib/python3.11/site-packages/xport/__about__.py:18: UserWarning: pkg_resources is deprecated as an API. See https://setuptools.pypa.io/en/latest/pkg_resources.html. The pkg_resources package is slated for removal as early as 2025-11-30. Refrain from using this package or pin to Setuptools<81.\n",
      "  from pkg_resources import DistributionNotFound, get_distribution\n"
     ]
    }
   ],
   "source": [
    "import matplotlib.pyplot as plt\n",
    "import matplotlib as mpl\n",
    "import logging\n",
    "\n",
    "from mono_multi.setup import (\n",
    "    PAPER_TASKS,\n",
    "    FIGURES_ROOT_DIR,\n",
    ")\n",
    "from mono_multi.utils import (\n",
    "    cumulative_sum,\n",
    "    load_model_outputs_same_prompt,\n",
    "    load_results_overview,\n",
    "    add_evals_to_df,\n",
    "    load_data_if_needed,\n",
    "    filter_results_all_tasks,\n",
    "    add_newline_camelcase\n",
    ")\n",
    "\n",
    "from mono_multi.plotting import (\n",
    "    plot_recourse_wrapper,\n",
    "    plot_agreement_wrapper,\n",
    "    configure_legend,\n",
    ")\n",
    "\n",
    "import numpy as np \n",
    "import pandas as pd\n",
    "from mono_multi.metrics import get_observed_pairwise_agreement_rate, matrix_pairwise_evals\n"
   ]
  },
  {
   "cell_type": "code",
   "execution_count": null,
   "id": "70364659",
   "metadata": {},
   "outputs": [],
   "source": [
    "plot_config_file = \"./results/.matplotlibrc\"\n",
    "plt.rcParams.update(mpl.rc_params_from_file(fname=plot_config_file))\n",
    "\n",
    "FIGURES_PAPER_DIR = FIGURES_ROOT_DIR / \"same-prompt\"\n",
    "TASKS = PAPER_TASKS  "
   ]
  },
  {
   "cell_type": "code",
   "execution_count": 4,
   "id": "d4ca134d",
   "metadata": {},
   "outputs": [],
   "source": [
    "select_by = \"accuracy\"  #'balanced_accuracy' #\n",
    "fit_threshold_for = \"balanced_accuracy\" #'accuracy' #"
   ]
  },
  {
   "cell_type": "markdown",
   "id": "f5a9b61d",
   "metadata": {},
   "source": [
    "## Load Task Data"
   ]
  },
  {
   "cell_type": "code",
   "execution_count": 5,
   "id": "c1640cda",
   "metadata": {},
   "outputs": [
    {
     "name": "stdout",
     "output_type": "stream",
     "text": [
      "'data_all' not yet defined\n",
      "ACSIncome\n",
      "ACSEmployment\n"
     ]
    },
    {
     "name": "stderr",
     "output_type": "stream",
     "text": [
      "WARNING:root:Assuming dataset is preprocessed as wanted.\n"
     ]
    },
    {
     "name": "stdout",
     "output_type": "stream",
     "text": [
      "BRFSS_Blood_Pressure\n",
      "SIPP\n",
      "ACSTravelTime\n",
      "ACSPublicCoverage\n",
      "ACSMobility\n"
     ]
    }
   ],
   "source": [
    "try:\n",
    "    data_all\n",
    "except NameError:\n",
    "    print(\"'data_all' not yet defined\")\n",
    "    data_all = load_data_if_needed(data=None, tasks=TASKS)\n",
    "else:\n",
    "    print(\"Already defined, update if needed.\")\n",
    "    data_all = load_data_if_needed(data=data_all, tasks=TASKS)"
   ]
  },
  {
   "cell_type": "markdown",
   "id": "f809a7d6",
   "metadata": {},
   "source": [
    "## Load predictions"
   ]
  },
  {
   "cell_type": "code",
   "execution_count": 6,
   "id": "5584d768",
   "metadata": {},
   "outputs": [
    {
     "data": {
      "text/plain": [
       "(349, 19)"
      ]
     },
     "execution_count": 6,
     "metadata": {},
     "output_type": "execute_result"
    }
   ],
   "source": [
    "num_shots = 0\n",
    "threshold_fitted = True\n",
    "\n",
    "df = load_results_overview(\n",
    "    num_shots=num_shots, threshold_fitted=threshold_fitted, same_prompt=True\n",
    ")\n",
    "df = df[df[\"task\"].isin(TASKS)]\n",
    "df = df[df[\"correct_order_bias\"] == 0]\n",
    "if threshold_fitted and (\"threshold_obj\" in df.columns):\n",
    "    df = df[df[\"threshold_obj\"] == fit_threshold_for]\n",
    "\n",
    "df[\"predictions_path\"] = \"/Volumes/mgorecki/monoculture/\" + df[\"predictions_path\"]\n",
    "\n",
    "df.shape"
   ]
  },
  {
   "cell_type": "code",
   "execution_count": 7,
   "id": "209f340c",
   "metadata": {},
   "outputs": [],
   "source": [
    "try:\n",
    "    assert set(TASKS).issubset(\n",
    "        set(df[\"task\"].unique())\n",
    "    ), f\"Results for all tasks to be analysed have to be available, available are: {list(df['task'].unique())} \"\n",
    "except AssertionError:\n",
    "    TASKS = list(df[\"task\"].unique())\n",
    "    logging.warning(f\"Reduced TASKS to available tasks: {TASKS}\")"
   ]
  },
  {
   "cell_type": "code",
   "execution_count": 8,
   "id": "98757ef6",
   "metadata": {},
   "outputs": [
    {
     "name": "stdout",
     "output_type": "stream",
     "text": [
      "ACSIncome\n",
      "ACSEmployment\n",
      "BRFSS_Blood_Pressure\n",
      "SIPP\n",
      "ACSTravelTime\n",
      "ACSPublicCoverage\n",
      "ACSMobility\n"
     ]
    }
   ],
   "source": [
    "predictions_all = load_model_outputs_same_prompt(\n",
    "    df, tasks=TASKS, return_risk_scores=False\n",
    ")\n",
    "\n",
    "df = add_evals_to_df(df)"
   ]
  },
  {
   "cell_type": "markdown",
   "id": "9cf2b86a",
   "metadata": {},
   "source": [
    "## Restrict analysis to models based on performance or true labels?"
   ]
  },
  {
   "cell_type": "code",
   "execution_count": 9,
   "id": "d9d959c9",
   "metadata": {},
   "outputs": [
    {
     "name": "stdout",
     "output_type": "stream",
     "text": [
      "ACSIncome\n",
      "- before: (166450, 50)\n",
      "- after: (61233, 27)\n",
      "ACSEmployment\n",
      "- before: (323611, 50)\n",
      "- after: (146740, 8)\n",
      "BRFSS_Blood_Pressure\n",
      "- before: (84676, 50)\n",
      "- after: (44586, 23)\n",
      "SIPP\n",
      "- before: (3972, 49)\n",
      "- after: (2035, 16)\n",
      "ACSTravelTime\n",
      "- before: (146665, 50)\n",
      "- after: (64285, 12)\n",
      "ACSPublicCoverage\n",
      "- before: (113829, 50)\n",
      "- after: (33971, 21)\n",
      "ACSMobility\n",
      "- before: (62094, 50)\n",
      "- after: (16446, 5)\n"
     ]
    }
   ],
   "source": [
    "restrict_to_better_const = False\n",
    "restrict_to_positive_label = True\n",
    "restrict_to_negative_label = False\n",
    "restrict_to_top_eps = True\n",
    "eps = 0.05\n",
    "restrict_to_topk = False\n",
    "topk = 10\n",
    "\n",
    "predictions, data = filter_results_all_tasks(\n",
    "    predictions=predictions_all.copy(),\n",
    "    df=df,\n",
    "    data={t: val for t, val in data_all.items() if t in TASKS},\n",
    "    tasks=TASKS,\n",
    "    restrict_to_better_const=restrict_to_better_const,\n",
    "    restrict_to_positive_label=restrict_to_positive_label,\n",
    "    restrict_to_negative_label=restrict_to_negative_label,\n",
    "    restrict_to_top_eps=restrict_to_top_eps,\n",
    "    restrict_to_topk=restrict_to_topk,\n",
    "    eps=eps,\n",
    "    topk=topk,\n",
    "    acc=select_by,\n",
    ")"
   ]
  },
  {
   "cell_type": "markdown",
   "id": "2e456a21",
   "metadata": {},
   "source": [
    "## Plot"
   ]
  },
  {
   "cell_type": "code",
   "execution_count": 10,
   "id": "f6dc221f",
   "metadata": {},
   "outputs": [],
   "source": [
    "# helpers\n",
    "def build_filename(name: str):\n",
    "    parts = [\n",
    "        f\"{name}-{num_shots}-shot\",\n",
    "        (\n",
    "            f\"_selected_by-{select_by.replace('_','-')}\"\n",
    "            f\"_tresh_fitted-{fit_threshold_for.replace('_','-')}\"\n",
    "            if threshold_fitted\n",
    "            else \"\"\n",
    "        ),\n",
    "        \"_better_const\" if restrict_to_better_const else \"\",\n",
    "        \"_pos_instances\" if restrict_to_positive_label else \"\",\n",
    "        \"_neg_instances\" if restrict_to_negative_label else \"\",\n",
    "        f\"_eps{str(eps).replace('.', '_')}\" if restrict_to_top_eps else \"\",\n",
    "        f\"_top{topk}\" if restrict_to_topk else \"\",\n",
    "    ]\n",
    "    return \"\".join(parts)"
   ]
  },
  {
   "cell_type": "markdown",
   "id": "50b77c26",
   "metadata": {},
   "source": [
    "### Agreement and Recourse in one figure"
   ]
  },
  {
   "cell_type": "code",
   "execution_count": 11,
   "id": "b642f745",
   "metadata": {},
   "outputs": [
    {
     "name": "stdout",
     "output_type": "stream",
     "text": [
      "ACSIncome\n",
      "mean agreement: 0.8837\n",
      "mean agreement at random: 0.6366\n",
      "ACSEmployment\n",
      "mean agreement: 0.8829\n",
      "mean agreement at random: 0.6639\n",
      "BRFSS_Blood_Pressure\n",
      "mean agreement: 0.7243\n",
      "mean agreement at random: 0.5223\n",
      "SIPP\n",
      "mean agreement: 0.8429\n",
      "mean agreement at random: 0.6294\n",
      "ACSTravelTime\n",
      "mean agreement: 0.7430\n",
      "mean agreement at random: 0.5260\n",
      "ACSPublicCoverage\n",
      "mean agreement: 0.6895\n",
      "mean agreement at random: 0.5832\n",
      "ACSMobility\n",
      "mean agreement: 0.8640\n",
      "mean agreement at random: 0.5946\n",
      "agreement-recourse-0-shot_selected_by-accuracy_tresh_fitted-balanced-accuracy_pos_instances_eps0_05\n"
     ]
    },
    {
     "data": {
      "image/png": "[encoded data removed]",
      "text/plain": [
       "<Figure size 550x270 with 14 Axes>"
      ]
     },
     "metadata": {},
     "output_type": "display_data"
    }
   ],
   "source": [
    "tasks_to_plot = PAPER_TASKS\n",
    "\n",
    "fig_width = 1*plt.rcParams[\"figure.figsize\"][0]  # 3*plt.rcParams[\"figure.figsize\"][0]\n",
    "fig_height = 0.9*plt.rcParams[\"figure.figsize\"][1]\n",
    "\n",
    "fig, axs = plt.subplots(\n",
    "    2,\n",
    "    len(tasks_to_plot),\n",
    "    figsize=(fig_width, fig_height),\n",
    "    sharey=\"row\",\n",
    "    constrained_layout=True,\n",
    "    gridspec_kw={\"height_ratios\": [1, 2]},\n",
    ")\n",
    "\n",
    "recourse_observed = {}\n",
    "recourse_at_random = {}\n",
    "agreement = {}\n",
    "\n",
    "for i, task in enumerate(tasks_to_plot):\n",
    "    print(task)\n",
    "    M = len(predictions[task].columns)\n",
    "    mask = (df[\"task\"] == task) & (df[\"model\"].isin(predictions[task].columns))\n",
    "\n",
    "    # agreement\n",
    "    axs[0, i], agreement_data = plot_agreement_wrapper(\n",
    "        axs[0, i],\n",
    "        predictions=predictions[task],\n",
    "        df=df[mask],\n",
    "        xlabel=\"\",\n",
    "        ylabel=\"\",\n",
    "    )\n",
    "    print(f\"mean agreement: {agreement_data['observed'].agreement.mean():.4f}\")\n",
    "    print(\n",
    "        f\"mean agreement at random: {agreement_data['baseline'].agreement.mean():.4f}\"\n",
    "    )\n",
    "    agreement[task] = agreement_data\n",
    "\n",
    "    # recourse\n",
    "    axs[1, i], observed, at_random = plot_recourse_wrapper(\n",
    "        axs[1, i],\n",
    "        predictions=predictions[task],\n",
    "        df=df[mask],\n",
    "        count_accepted=restrict_to_positive_label,\n",
    "        baseline_metric = 'tpr' if restrict_to_positive_label else 'tnr',\n",
    "        xlabel=\"\",\n",
    "        ylabel=\"\",\n",
    "    )\n",
    "\n",
    "    recourse_observed[task] = observed\n",
    "    recourse_at_random[task] = at_random\n",
    "\n",
    "    axs[0, i].set_title(\n",
    "        f\"{add_newline_camelcase(task.replace('ACS', '').replace('BRFSS', '').replace('_', ''))}\\n(M={M})\"\n",
    "    )\n",
    "\n",
    "axs[0, 0].set_ylabel(\"agreement\")\n",
    "axs[0,0].set_xlabel(\"fraction of model pairs\")\n",
    "\n",
    "axs[1, 0].set_ylabel(f\"fraction of\\n {'positive' if restrict_to_positive_label else 'negative'} predictions\")\n",
    "axs[1, 0].set_xlabel(f\"fraction of {'positive' if restrict_to_positive_label else 'negative'} instances\")#, loc='left')\n",
    "configure_legend(fig, axs, offset=0.2)\n",
    "\n",
    "file_name = build_filename(name=\"agreement-recourse\")\n",
    "for ending in [\".svg\", \".pdf\"]:\n",
    "    plt.savefig(FIGURES_PAPER_DIR / f\"fig2_{file_name}{ending}\")\n",
    "print(file_name)\n",
    "\n",
    "plt.show()"
   ]
  },
  {
   "cell_type": "markdown",
   "id": "808238ab",
   "metadata": {},
   "source": [
    "#### Recourse Stats"
   ]
  },
  {
   "cell_type": "code",
   "execution_count": 12,
   "id": "c12aed6a",
   "metadata": {},
   "outputs": [
    {
     "data": {
      "text/html": [
       "<div>\n",
       "<style scoped>\n",
       "    .dataframe tbody tr th:only-of-type {\n",
       "        vertical-align: middle;\n",
       "    }\n",
       "\n",
       "    .dataframe tbody tr th {\n",
       "        vertical-align: top;\n",
       "    }\n",
       "\n",
       "    .dataframe thead th {\n",
       "        text-align: right;\n",
       "    }\n",
       "</style>\n",
       "<table border=\"1\" class=\"dataframe\">\n",
       "  <thead>\n",
       "    <tr style=\"text-align: right;\">\n",
       "      <th></th>\n",
       "      <th>m1</th>\n",
       "      <th>m2</th>\n",
       "      <th>agreement</th>\n",
       "    </tr>\n",
       "  </thead>\n",
       "  <tbody>\n",
       "    <tr>\n",
       "      <th>101</th>\n",
       "      <td>mistralai--Mixtral-8x22B-Instruct-v0.1</td>\n",
       "      <td>allenai--OLMo-1B-0724-hf</td>\n",
       "      <td>0.407524</td>\n",
       "    </tr>\n",
       "    <tr>\n",
       "      <th>102</th>\n",
       "      <td>mistralai--Mixtral-8x22B-Instruct-v0.1</td>\n",
       "      <td>meta-llama--Meta-Llama-3.2-1B-Instruct</td>\n",
       "      <td>0.407642</td>\n",
       "    </tr>\n",
       "    <tr>\n",
       "      <th>104</th>\n",
       "      <td>mistralai--Mixtral-8x22B-Instruct-v0.1</td>\n",
       "      <td>google--gemma-7b</td>\n",
       "      <td>0.433164</td>\n",
       "    </tr>\n",
       "    <tr>\n",
       "      <th>103</th>\n",
       "      <td>mistralai--Mixtral-8x22B-Instruct-v0.1</td>\n",
       "      <td>allenai--OLMo-7B-hf</td>\n",
       "      <td>0.437579</td>\n",
       "    </tr>\n",
       "    <tr>\n",
       "      <th>84</th>\n",
       "      <td>Qwen--Qwen2.5-72B-Instruct</td>\n",
       "      <td>meta-llama--Meta-Llama-3.2-1B-Instruct</td>\n",
       "      <td>0.438551</td>\n",
       "    </tr>\n",
       "    <tr>\n",
       "      <th>...</th>\n",
       "      <td>...</td>\n",
       "      <td>...</td>\n",
       "      <td>...</td>\n",
       "    </tr>\n",
       "    <tr>\n",
       "      <th>99</th>\n",
       "      <td>mistralai--Mixtral-8x22B-v0.1</td>\n",
       "      <td>Qwen--Qwen2-72B</td>\n",
       "      <td>0.714433</td>\n",
       "    </tr>\n",
       "    <tr>\n",
       "      <th>16</th>\n",
       "      <td>google--gemma-2-9b-it</td>\n",
       "      <td>allenai--OLMo-7B-0724-hf</td>\n",
       "      <td>0.714727</td>\n",
       "    </tr>\n",
       "    <tr>\n",
       "      <th>81</th>\n",
       "      <td>Qwen--Qwen2-72B-Instruct</td>\n",
       "      <td>meta-llama--Meta-Llama-3-8B-Instruct</td>\n",
       "      <td>0.715081</td>\n",
       "    </tr>\n",
       "    <tr>\n",
       "      <th>62</th>\n",
       "      <td>meta-llama--Meta-Llama-3-70B-Instruct</td>\n",
       "      <td>Qwen--Qwen2.5-7B-Instruct</td>\n",
       "      <td>0.715551</td>\n",
       "    </tr>\n",
       "    <tr>\n",
       "      <th>40</th>\n",
       "      <td>meta-llama--Meta-Llama-3.1-70B</td>\n",
       "      <td>google--gemma-2-9b-it</td>\n",
       "      <td>0.716847</td>\n",
       "    </tr>\n",
       "  </tbody>\n",
       "</table>\n",
       "<p>110 rows × 3 columns</p>\n",
       "</div>"
      ],
      "text/plain": [
       "                                         m1  \\\n",
       "101  mistralai--Mixtral-8x22B-Instruct-v0.1   \n",
       "102  mistralai--Mixtral-8x22B-Instruct-v0.1   \n",
       "104  mistralai--Mixtral-8x22B-Instruct-v0.1   \n",
       "103  mistralai--Mixtral-8x22B-Instruct-v0.1   \n",
       "84               Qwen--Qwen2.5-72B-Instruct   \n",
       "..                                      ...   \n",
       "99            mistralai--Mixtral-8x22B-v0.1   \n",
       "16                    google--gemma-2-9b-it   \n",
       "81                 Qwen--Qwen2-72B-Instruct   \n",
       "62    meta-llama--Meta-Llama-3-70B-Instruct   \n",
       "40           meta-llama--Meta-Llama-3.1-70B   \n",
       "\n",
       "                                         m2  agreement  \n",
       "101                allenai--OLMo-1B-0724-hf   0.407524  \n",
       "102  meta-llama--Meta-Llama-3.2-1B-Instruct   0.407642  \n",
       "104                        google--gemma-7b   0.433164  \n",
       "103                     allenai--OLMo-7B-hf   0.437579  \n",
       "84   meta-llama--Meta-Llama-3.2-1B-Instruct   0.438551  \n",
       "..                                      ...        ...  \n",
       "99                          Qwen--Qwen2-72B   0.714433  \n",
       "16                 allenai--OLMo-7B-0724-hf   0.714727  \n",
       "81     meta-llama--Meta-Llama-3-8B-Instruct   0.715081  \n",
       "62                Qwen--Qwen2.5-7B-Instruct   0.715551  \n",
       "40                    google--gemma-2-9b-it   0.716847  \n",
       "\n",
       "[110 rows x 3 columns]"
      ]
     },
     "execution_count": 12,
     "metadata": {},
     "output_type": "execute_result"
    }
   ],
   "source": [
    "agreement_df = []\n",
    "agree_matrix = matrix_pairwise_evals(data=predictions['ACSPublicCoverage'], fun=get_observed_pairwise_agreement_rate)\n",
    "for i, m1 in enumerate(predictions['ACSPublicCoverage'].columns):\n",
    "    for j, m2 in enumerate(predictions['ACSPublicCoverage'].columns): \n",
    "        if j<i and agree_matrix[i,j] < agree_matrix[~np.isnan(agree_matrix)].mean():\n",
    "            agreement_df.append({'m1': m1, 'm2': m2, 'agreement': agree_matrix[i,j]})\n",
    "agreement_df = pd.DataFrame.from_dict(agreement_df)\n",
    "agreement_df.sort_values(by='agreement')"
   ]
  },
  {
   "cell_type": "code",
   "execution_count": 13,
   "id": "58d66881",
   "metadata": {},
   "outputs": [
    {
     "data": {
      "text/plain": [
       "array([[0.13950134, 0.        ],\n",
       "       [0.23799712, 0.04761905],\n",
       "       [0.31182479, 0.0952381 ],\n",
       "       [0.36943275, 0.14285714],\n",
       "       [0.41526596, 0.19047619],\n",
       "       [0.45703688, 0.23809524],\n",
       "       [0.49109535, 0.28571429],\n",
       "       [0.5237114 , 0.33333333],\n",
       "       [0.55573872, 0.38095238],\n",
       "       [0.58623532, 0.42857143],\n",
       "       [0.61826264, 0.47619048],\n",
       "       [0.64955403, 0.52380952],\n",
       "       [0.68116923, 0.57142857],\n",
       "       [0.72388213, 0.61904762],\n",
       "       [0.78043037, 0.66666667],\n",
       "       [0.84363133, 0.71428571],\n",
       "       [0.95525595, 0.76190476],\n",
       "       [0.99676194, 0.80952381],\n",
       "       [0.99997056, 0.85714286],\n",
       "       [1.        , 0.9047619 ]])"
      ]
     },
     "execution_count": 13,
     "metadata": {},
     "output_type": "execute_result"
    }
   ],
   "source": [
    "rec = recourse_observed['ACSPublicCoverage']\n",
    "frac_models = rec[:, 1]\n",
    "frac_ind = rec[:, 0]\n",
    "\n",
    "rec_cum = np.vstack([cumulative_sum(frac_ind), frac_models]).T\n",
    "rec_cum#[rec_cum[:,0]>=0.3]"
   ]
  },
  {
   "cell_type": "code",
   "execution_count": 14,
   "id": "35c92a97",
   "metadata": {},
   "outputs": [
    {
     "name": "stdout",
     "output_type": "stream",
     "text": [
      "task                 &   M  & \tno recourse & substantial recourse & full recourse\\\\\n",
      "ACSIncome            &  27  &\t0.07&\t0.80&\t0.51\\\\\n",
      "ACSEmployment        &   8  &\t0.06&\t0.82&\t0.64\\\\\n",
      "BRFSS Blood Pressure &  23  &\t0.03&\t0.60&\t0.14\\\\\n",
      "SIPP                 &  16  &\t0.05&\t0.77&\t0.48\\\\\n",
      "ACSTravelTime        &  12  &\t0.04&\t0.72&\t0.24\\\\\n",
      "ACSPublicCoverage    &  21  &\t0.14&\t0.38&\t0.00\\\\\n",
      "ACSMobility          &   5  &\t0.68&\t0.00&\t0.00\\\\\n"
     ]
    }
   ],
   "source": [
    "import numpy as np\n",
    "\n",
    "output = f\"{'task':20} &   M  & \\tno recourse & substantial recourse & full recourse\\\\\\\\\"\n",
    "\n",
    "for task in recourse_observed.keys():\n",
    "    M = predictions[task].shape[1]\n",
    "    rec = recourse_observed[task]\n",
    "    frac_models = rec[:, 1]\n",
    "    frac_ind = rec[:, 0]\n",
    "    max_frac_no_rec = (\n",
    "        sum(frac_ind[frac_models == 0.0]) if sum(frac_models == 0.0) > 0 else 0.0\n",
    "    )\n",
    "    frac_limited_rec = (\n",
    "        sum(frac_ind[frac_models <= 0.5]) if sum(frac_models <= 0.5) > 0 else 0.0\n",
    "    )\n",
    "    frac_substantial_rec = 1 - frac_limited_rec\n",
    "    frac_full_rec = (\n",
    "        sum(frac_ind[np.isclose(frac_models, 1.0)])\n",
    "        if sum(np.isclose(frac_models, 1.0)) > 0\n",
    "        else 0.0\n",
    "    )\n",
    "    output += (\n",
    "        f\"\\n{task.replace('_', ' '):20} & {M:3}  &\\t{max_frac_no_rec:.2f}\"\n",
    "        f\"&\\t{frac_substantial_rec:.2f}\"\n",
    "        f\"&\\t{frac_full_rec:.2f}\\\\\\\\\"\n",
    "    )\n",
    "\n",
    "print(output)\n",
    "\n",
    "with open(FIGURES_PAPER_DIR / (build_filename(\"recourse_table\") + \".txt\"), \"w\") as file:\n",
    "    file.write(output)"
   ]
  },
  {
   "cell_type": "markdown",
   "id": "94832a2e",
   "metadata": {},
   "source": [
    "### Only Recourse"
   ]
  },
  {
   "cell_type": "code",
   "execution_count": 15,
   "id": "5881e088",
   "metadata": {},
   "outputs": [
    {
     "name": "stdout",
     "output_type": "stream",
     "text": [
      "ACSIncome\n",
      "ACSEmployment\n",
      "BRFSS_Blood_Pressure\n",
      "SIPP\n",
      "ACSTravelTime\n",
      "ACSPublicCoverage\n",
      "ACSMobility\n",
      "recourse-0-shot_selected_by-accuracy_tresh_fitted-balanced-accuracy_pos_instances_eps0_05\n"
     ]
    },
    {
     "data": {
      "image/png": "[encoded data removed]",
      "text/plain": [
       "<Figure size 550x270 with 8 Axes>"
      ]
     },
     "metadata": {},
     "output_type": "display_data"
    }
   ],
   "source": [
    "tasks_to_plot = PAPER_TASKS  # [task for task in TASKS if task != 'BRFSS_Diabetes']\n",
    "num_tasks = len(tasks_to_plot)\n",
    "\n",
    "fig_width = plt.rcParams[\"figure.figsize\"][0]\n",
    "fig_height = 0.9 * plt.rcParams[\"figure.figsize\"][1]\n",
    "\n",
    "\n",
    "r, c = 2, (num_tasks + 1) // 2\n",
    "fig, axs = plt.subplots(\n",
    "    r,\n",
    "    c,\n",
    "    figsize=(fig_width, fig_height),\n",
    "    sharey=\"row\",\n",
    "    constrained_layout=True,\n",
    ")\n",
    "\n",
    "recourse_observed = {}\n",
    "recourse_at_random = {}\n",
    "for i, ax in enumerate(axs.flat):\n",
    "    if i < num_tasks:\n",
    "        task = tasks_to_plot[i]\n",
    "        print(task)\n",
    "        M = len(predictions[task].columns)\n",
    "        mask = (df[\"task\"] == task) & (df[\"model\"].isin(predictions[task].columns))\n",
    "\n",
    "        ax, observed, at_random = plot_recourse_wrapper(\n",
    "            ax=ax,\n",
    "            predictions=predictions[task],\n",
    "            df = df[mask],\n",
    "            baseline_metric='tpr',\n",
    "            xlabel=\"\",\n",
    "            ylabel=\"\",\n",
    "        )\n",
    "        recourse_observed[task] = observed\n",
    "        recourse_at_random[task] = at_random\n",
    "\n",
    "        ax.set_title(\n",
    "            f\"{task.replace('ACS', '').replace('BRFSS', '').replace('_', ' ')}\\n(M={M})\"\n",
    "        )\n",
    "\n",
    "\n",
    "axs[0, 0].set_ylabel(\"fraction of\\n positive predictions\")\n",
    "axs[0, 0].set_xlabel(\"fraction of positive instances\")\n",
    "\n",
    "bbox = axs.flat[-1].get_position()\n",
    "x_center = (bbox.x0 + bbox.x1) / 2\n",
    "y_center = (bbox.y0 + bbox.y1) / 2\n",
    "\n",
    "configure_legend(\n",
    "    fig,\n",
    "    axs,\n",
    "    add_monoculture_mixed_handle=False,\n",
    "    loc=\"center left\",\n",
    "    columns=False,\n",
    "    bbox_to_anchor=(x_center, y_center),\n",
    ")\n",
    "axs.flat[-1].axis(\"off\")\n",
    "\n",
    "\n",
    "file_name = build_filename(name=\"recourse\")\n",
    "for ending in [\".png\", \".pdf\"]:\n",
    "    plt.savefig(FIGURES_PAPER_DIR / f\"fig2_{file_name}{ending}\")\n",
    "print(file_name)\n",
    "\n",
    "plt.show()"
   ]
  },
  {
   "cell_type": "markdown",
   "id": "3be17048",
   "metadata": {},
   "source": [
    "### Only Agreement"
   ]
  },
  {
   "cell_type": "code",
   "execution_count": 16,
   "id": "2b76b4fe",
   "metadata": {},
   "outputs": [
    {
     "name": "stdout",
     "output_type": "stream",
     "text": [
      "ACSIncome\n",
      "mean agreement: 0.8837\n",
      "mean agreement at random: 0.6366\n",
      "ACSEmployment\n",
      "mean agreement: 0.8829\n",
      "mean agreement at random: 0.6639\n",
      "BRFSS_Blood_Pressure\n",
      "mean agreement: 0.7243\n",
      "mean agreement at random: 0.5223\n",
      "SIPP\n",
      "mean agreement: 0.8429\n",
      "mean agreement at random: 0.6294\n",
      "ACSTravelTime\n",
      "mean agreement: 0.7430\n",
      "mean agreement at random: 0.5260\n",
      "ACSPublicCoverage\n",
      "mean agreement: 0.6895\n",
      "mean agreement at random: 0.5832\n",
      "ACSMobility\n",
      "mean agreement: 0.8640\n",
      "mean agreement at random: 0.5946\n",
      "agreement-0-shot_selected_by-accuracy_tresh_fitted-balanced-accuracy_pos_instances_eps0_05\n"
     ]
    },
    {
     "data": {
      "image/png": "[encoded data removed]",
      "text/plain": [
       "<Figure size 550x300 with 8 Axes>"
      ]
     },
     "metadata": {},
     "output_type": "display_data"
    }
   ],
   "source": [
    "tasks_to_plot = (\n",
    "    PAPER_TASKS  # [task for task in TASKS if task not in ['ACSHealthInsurance']]\n",
    ")\n",
    "\n",
    "fig_width = plt.rcParams[\"figure.figsize\"][0]  # 3*plt.rcParams[\"figure.figsize\"][0]\n",
    "fig_height = plt.rcParams[\"figure.figsize\"][1]\n",
    "nrows = 2\n",
    "\n",
    "fig, axs = plt.subplots(\n",
    "    nrows,\n",
    "    (len(tasks_to_plot) + 1) // nrows,\n",
    "    figsize=(fig_width, fig_height),\n",
    "    sharey=\"row\",\n",
    "    constrained_layout=True,\n",
    ")\n",
    "\n",
    "recourse_observed = {}\n",
    "recourse_at_random = {}\n",
    "\n",
    "for i, ax in enumerate(axs.flat):\n",
    "    if i < len(tasks_to_plot):\n",
    "        task = tasks_to_plot[i]\n",
    "        print(task)\n",
    "        M = len(predictions[task].columns)\n",
    "        mask = (df[\"task\"] == task) & (df[\"model\"].isin(predictions[task].columns))\n",
    "\n",
    "        # agreement\n",
    "        ax, agreement_data = plot_agreement_wrapper(\n",
    "            ax, predictions=predictions[task], df=df[mask], xlabel=\"\", ylabel=\"\"\n",
    "        )\n",
    "        print(f\"mean agreement: {agreement_data['observed'].agreement.mean():.4f}\")\n",
    "        print(\n",
    "            f\"mean agreement at random: {agreement_data['baseline'].agreement.mean():.4f}\"\n",
    "        )\n",
    "\n",
    "        ax.set_title(\n",
    "            f\"{task.replace('ACS', '').replace('BRFSS', '').replace('_', ' ')}\\n(M={M})\"\n",
    "        )\n",
    "\n",
    "axs[0, 0].set_ylabel(\"agreement\")\n",
    "axs[0, 0].set_xlabel(\"fraction of model pairs\")\n",
    "bbox = axs.flat[-1].get_position()\n",
    "x_center = (bbox.x0 + bbox.x1) / 2\n",
    "y_center = (bbox.y0 + bbox.y1) / 2\n",
    "\n",
    "configure_legend(\n",
    "    fig,\n",
    "    axs,\n",
    "    add_monoculture_mixed_handle=False,\n",
    "    loc=\"center left\",\n",
    "    columns=False,\n",
    "    bbox_to_anchor=(x_center, y_center),\n",
    ")\n",
    "axs.flat[-1].axis(\"off\")\n",
    "\n",
    "file_name = build_filename(name=\"agreement\")\n",
    "for ending in [\".png\", \".pdf\"]:\n",
    "    plt.savefig(FIGURES_PAPER_DIR / f\"fig2_{file_name}{ending}\")\n",
    "print(file_name)\n",
    "\n",
    "plt.show()"
   ]
  }
 ],
 "metadata": {
  "kernelspec": {
   "display_name": "monoc-py311",
   "language": "python",
   "name": "python3"
  },
  "language_info": {
   "codemirror_mode": {
    "name": "ipython",
    "version": 3
   },
   "file_extension": ".py",
   "mimetype": "text/x-python",
   "name": "python",
   "nbconvert_exporter": "python",
   "pygments_lexer": "ipython3",
   "version": "3.11.11"
  }
 },
 "nbformat": 4,
 "nbformat_minor": 5
}
