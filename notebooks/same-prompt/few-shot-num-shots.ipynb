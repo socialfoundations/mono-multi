{
 "cells": [
  {
   "cell_type": "markdown",
   "id": "56a3b130",
   "metadata": {},
   "source": [
    "## Figure: Agreement and Recource"
   ]
  },
  {
   "cell_type": "code",
   "execution_count": 8,
   "id": "dbed1323",
   "metadata": {},
   "outputs": [
    {
     "name": "stdout",
     "output_type": "stream",
     "text": [
      "The autoreload extension is already loaded. To reload it, use:\n",
      "  %reload_ext autoreload\n"
     ]
    }
   ],
   "source": [
    "#%%\n",
    "%load_ext autoreload\n",
    "%autoreload 2"
   ]
  },
  {
   "cell_type": "code",
   "execution_count": null,
   "id": "98fc845c",
   "metadata": {},
   "outputs": [],
   "source": [
    "import matplotlib.pyplot as plt\n",
    "import matplotlib as mpl\n",
    "import torch\n",
    "import pandas as pd\n",
    "import numpy as np\n",
    "from functools import partial\n",
    "import logging\n",
    "\n",
    "from mono_multi.setup import (\n",
    "    FIGURES_ROOT_DIR,\n",
    ")\n",
    "from mono_multi.metrics import (\n",
    "    matrix_pairwise_evals,\n",
    ")\n",
    "from mono_multi.utils import (\n",
    "    load_model_outputs_same_prompt,\n",
    "    get_size_and_it,\n",
    "    load_results_overview,\n",
    "    add_evals_to_df,\n",
    "    load_data_if_needed,\n",
    "    filter_results_all_tasks,\n",
    ")\n",
    "\n",
    "from mono_multi.plotting import (\n",
    "    plot_recourse_wrapper,\n",
    "    plot_agreement_wrapper,\n",
    "    configure_legend,\n",
    ")"
   ]
  },
  {
   "cell_type": "code",
   "execution_count": 10,
   "id": "a8debd3a",
   "metadata": {},
   "outputs": [],
   "source": [
    "plot_config_file = \"./results/.matplotlibrc\"\n",
    "plt.rcParams.update(mpl.rc_params_from_file(fname=plot_config_file))\n",
    "\n",
    "# FIGURES_PAPER_DIR = FIGURES_ROOT_DIR / \"paper\" / \"same-prompt\"\n",
    "FIGURES_PAPER_DIR = FIGURES_ROOT_DIR / \"paper-arxiv\" / \"same-prompt\"\n",
    "TASKS = [\"ACSIncome\"]"
   ]
  },
  {
   "cell_type": "code",
   "execution_count": 11,
   "id": "f091a187",
   "metadata": {},
   "outputs": [],
   "source": [
    "select_by = \"accuracy\"  #\"balanced_accuracy\" #\n",
    "fit_threshold_for = \"balanced_accuracy\"  #'accuracy' #"
   ]
  },
  {
   "cell_type": "markdown",
   "id": "f809a7d6",
   "metadata": {},
   "source": [
    "## Load predictions ACSIncome"
   ]
  },
  {
   "cell_type": "code",
   "execution_count": 12,
   "id": "f60c7c98",
   "metadata": {},
   "outputs": [
    {
     "data": {
      "text/plain": [
       "(146, 19)"
      ]
     },
     "execution_count": 12,
     "metadata": {},
     "output_type": "execute_result"
    }
   ],
   "source": [
    "num_shots = [4,8,10]\n",
    "threshold_fitted = True\n",
    "\n",
    "df = load_results_overview(\n",
    "    num_shots=num_shots, threshold_fitted=threshold_fitted, same_prompt=True\n",
    ")\n",
    "df = df[df[\"task\"].isin(TASKS)]\n",
    "df = df[df[\"correct_order_bias\"] == 0]\n",
    "if threshold_fitted and (\"threshold_obj\" in df.columns):\n",
    "    df = df[df[\"threshold_obj\"] == fit_threshold_for]\n",
    "\n",
    "df[\"predictions_path\"] = \"/Volumes/mgorecki/monoculture/\" + df[\"predictions_path\"]\n",
    "\n",
    "df.shape"
   ]
  },
  {
   "cell_type": "code",
   "execution_count": 13,
   "id": "241808a3",
   "metadata": {},
   "outputs": [],
   "source": [
    "try:\n",
    "    assert set(TASKS).issubset(\n",
    "        set(df[\"task\"].unique())\n",
    "    ), f\"Results for all tasks to be analysed have to be available, available are: {list(df['task'].unique())} \"\n",
    "except AssertionError:\n",
    "    TASKS = list(df[\"task\"].unique())\n",
    "    logging.warning(f\"Reduced TASKS to available tasks: {TASKS}\")"
   ]
  },
  {
   "cell_type": "code",
   "execution_count": 14,
   "id": "04fe1e77",
   "metadata": {},
   "outputs": [
    {
     "name": "stdout",
     "output_type": "stream",
     "text": [
      "ACSIncome\n"
     ]
    },
    {
     "name": "stderr",
     "output_type": "stream",
     "text": [
      "/Users/mgorecki/Documents/projects/monoculture/monoculture/utils.py:721: SettingWithCopyWarning: \n",
      "A value is trying to be set on a copy of a slice from a DataFrame.\n",
      "Try using .loc[row_indexer,col_indexer] = value instead\n",
      "\n",
      "See the caveats in the documentation: https://pandas.pydata.org/pandas-docs/stable/user_guide/indexing.html#returning-a-view-versus-a-copy\n",
      "  df[metric] = (\n",
      "/Users/mgorecki/Documents/projects/monoculture/monoculture/utils.py:721: SettingWithCopyWarning: \n",
      "A value is trying to be set on a copy of a slice from a DataFrame.\n",
      "Try using .loc[row_indexer,col_indexer] = value instead\n",
      "\n",
      "See the caveats in the documentation: https://pandas.pydata.org/pandas-docs/stable/user_guide/indexing.html#returning-a-view-versus-a-copy\n",
      "  df[metric] = (\n"
     ]
    },
    {
     "name": "stdout",
     "output_type": "stream",
     "text": [
      "ACSIncome\n"
     ]
    },
    {
     "name": "stderr",
     "output_type": "stream",
     "text": [
      "/Users/mgorecki/Documents/projects/monoculture/monoculture/utils.py:721: SettingWithCopyWarning: \n",
      "A value is trying to be set on a copy of a slice from a DataFrame.\n",
      "Try using .loc[row_indexer,col_indexer] = value instead\n",
      "\n",
      "See the caveats in the documentation: https://pandas.pydata.org/pandas-docs/stable/user_guide/indexing.html#returning-a-view-versus-a-copy\n",
      "  df[metric] = (\n",
      "/Users/mgorecki/Documents/projects/monoculture/monoculture/utils.py:721: SettingWithCopyWarning: \n",
      "A value is trying to be set on a copy of a slice from a DataFrame.\n",
      "Try using .loc[row_indexer,col_indexer] = value instead\n",
      "\n",
      "See the caveats in the documentation: https://pandas.pydata.org/pandas-docs/stable/user_guide/indexing.html#returning-a-view-versus-a-copy\n",
      "  df[metric] = (\n"
     ]
    },
    {
     "name": "stdout",
     "output_type": "stream",
     "text": [
      "ACSIncome\n"
     ]
    },
    {
     "name": "stderr",
     "output_type": "stream",
     "text": [
      "/Users/mgorecki/Documents/projects/monoculture/monoculture/utils.py:721: SettingWithCopyWarning: \n",
      "A value is trying to be set on a copy of a slice from a DataFrame.\n",
      "Try using .loc[row_indexer,col_indexer] = value instead\n",
      "\n",
      "See the caveats in the documentation: https://pandas.pydata.org/pandas-docs/stable/user_guide/indexing.html#returning-a-view-versus-a-copy\n",
      "  df[metric] = (\n",
      "/Users/mgorecki/Documents/projects/monoculture/monoculture/utils.py:721: SettingWithCopyWarning: \n",
      "A value is trying to be set on a copy of a slice from a DataFrame.\n",
      "Try using .loc[row_indexer,col_indexer] = value instead\n",
      "\n",
      "See the caveats in the documentation: https://pandas.pydata.org/pandas-docs/stable/user_guide/indexing.html#returning-a-view-versus-a-copy\n",
      "  df[metric] = (\n"
     ]
    }
   ],
   "source": [
    "df_alln = {n:df[df['num_shots'] == n] for n in num_shots}\n",
    "for n in num_shots:\n",
    "    predictions_all = load_model_outputs_same_prompt(\n",
    "    df_alln[n], tasks=TASKS, return_risk_scores=False\n",
    ")\n",
    "\n",
    "    df_alln[n] = add_evals_to_df(df[df['num_shots'] == n])"
   ]
  },
  {
   "cell_type": "markdown",
   "id": "9cf2b86a",
   "metadata": {},
   "source": [
    "## Restrict analysis to models based on performance or true labels?"
   ]
  },
  {
   "cell_type": "code",
   "execution_count": 15,
   "id": "6e6ba55c",
   "metadata": {},
   "outputs": [
    {
     "name": "stdout",
     "output_type": "stream",
     "text": [
      "data not yet defined\n",
      "ACSIncome\n"
     ]
    }
   ],
   "source": [
    "try:\n",
    "    data_all\n",
    "except NameError:\n",
    "    print(\"data not yet defined\")\n",
    "    data_all = load_data_if_needed(data=None, tasks=TASKS)\n",
    "else:\n",
    "    print(\"Already defined, update if needed.\")\n",
    "    data_all = load_data_if_needed(data=data_all, tasks=TASKS)"
   ]
  },
  {
   "cell_type": "code",
   "execution_count": 16,
   "id": "7c8a52c9",
   "metadata": {},
   "outputs": [
    {
     "name": "stdout",
     "output_type": "stream",
     "text": [
      "ACSIncome\n",
      "- before: (166450, 50)\n",
      "Using accuracy for comparison.\n",
      "- after: (61233, 34)\n",
      "ACSIncome\n",
      "- before: (166450, 50)\n",
      "Using accuracy for comparison.\n",
      "- after: (61233, 28)\n",
      "ACSIncome\n",
      "- before: (166450, 50)\n",
      "Using accuracy for comparison.\n",
      "- after: (61233, 35)\n"
     ]
    }
   ],
   "source": [
    "restrict_to_better_const = True\n",
    "restrict_to_positive_label = True\n",
    "restrict_to_negative_label = False\n",
    "restrict_to_top_eps = True\n",
    "eps = 0.05\n",
    "restrict_to_topk = False\n",
    "topk = 10\n",
    "\n",
    "predictions = {}\n",
    "data = {}\n",
    "\n",
    "for n in num_shots:\n",
    "    predictions[n], data[n] = filter_results_all_tasks(\n",
    "        predictions=predictions_all.copy(),\n",
    "        df=df_alln[n],\n",
    "        data={t: val for t, val in data_all.items() if t in TASKS},\n",
    "        tasks=TASKS,\n",
    "        restrict_to_better_const=restrict_to_better_const,\n",
    "        restrict_to_positive_label=restrict_to_positive_label,\n",
    "        restrict_to_negative_label=restrict_to_negative_label,\n",
    "        restrict_to_top_eps=restrict_to_top_eps,\n",
    "        restrict_to_topk=restrict_to_topk,\n",
    "        eps=eps,\n",
    "        topk=topk,\n",
    "        acc=select_by,\n",
    ")"
   ]
  },
  {
   "cell_type": "markdown",
   "id": "2e456a21",
   "metadata": {},
   "source": [
    "## Plot"
   ]
  },
  {
   "cell_type": "code",
   "execution_count": 17,
   "id": "e4000265",
   "metadata": {},
   "outputs": [],
   "source": [
    "# helpers\n",
    "def build_filename():\n",
    "    parts = [\n",
    "        f\"agreement-recourse-{num_shots if isinstance(num_shots, int) else '-'.join(str(n) for n in num_shots)}-shot\",\n",
    "        f\"-{TASKS[0]}\",\n",
    "        (\n",
    "            f\"_selected_by-{select_by.replace('_','-')}\"\n",
    "            f\"_tresh_fitted-{fit_threshold_for.replace('_','-')}\"\n",
    "            if threshold_fitted\n",
    "            else \"\"\n",
    "        ),\n",
    "        \"_better_const\" if restrict_to_better_const else \"\",\n",
    "        \"_pos_instances\" if restrict_to_positive_label else \"\",\n",
    "        \"_neg_instances\" if restrict_to_negative_label else \"\",\n",
    "        f\"_eps{str(eps).replace('.', '_')}\" if restrict_to_top_eps else \"\",\n",
    "        f\"_top{topk}\" if restrict_to_topk else \"\",\n",
    "    ]\n",
    "    return \"\".join(parts)"
   ]
  },
  {
   "cell_type": "code",
   "execution_count": 18,
   "id": "25e0b61a",
   "metadata": {},
   "outputs": [
    {
     "name": "stdout",
     "output_type": "stream",
     "text": [
      "mean agreement: 0.8861\n",
      "mean agreement at random: 0.6472\n",
      "mean agreement: 0.9080\n",
      "mean agreement at random: 0.6519\n",
      "mean agreement: 0.8814\n",
      "mean agreement at random: 0.6427\n",
      "agreement-recourse-4-8-10-shot-ACSIncome_selected_by-accuracy_tresh_fitted-balanced-accuracy_better_const_pos_instances_eps0_05\n"
     ]
    },
    {
     "data": {
      "image/png": "[encoded data removed]",
      "text/plain": [
       "<Figure size 550x240 with 6 Axes>"
      ]
     },
     "metadata": {},
     "output_type": "display_data"
    }
   ],
   "source": [
    "tasks_to_plot = TASKS\n",
    "selection_by = \"accuracy\"\n",
    "\n",
    "# fig_width = plt.rcParams[\"figure.figsize\"][0]\n",
    "# fig_height = 2 if num_shots == 0 else 1.5\n",
    "fig_width = plt.rcParams[\"figure.figsize\"][0]  # * 2 * (2/6) * (8/5)\n",
    "fig_height = 0.8*plt.rcParams[\"figure.figsize\"][1]  # 0.8*\n",
    "\n",
    "recourse_observed = {}\n",
    "recourse_at_random = {}\n",
    "\n",
    "fig, axs = plt.subplots(\n",
    "    2,\n",
    "    len(num_shots),\n",
    "    figsize=(fig_width, fig_height),\n",
    "    constrained_layout=True,\n",
    "    gridspec_kw={\"height_ratios\": [1, 2]},\n",
    "    sharey=\"row\"\n",
    ")\n",
    "\n",
    "for i, n in enumerate(num_shots):\n",
    "    task = 'ACSIncome'\n",
    "    # agreement\n",
    "    mask = (df_alln[n][\"task\"] == task) & (df_alln[n][\"model\"].isin(predictions[n][task].columns))\n",
    "    axs[0,i], agreement_data = plot_agreement_wrapper(\n",
    "        axs[0, i], predictions=predictions[n][task], df = df_alln[n][mask], \n",
    "        title=f\"{n}-shot\", \n",
    "        xlabel='', \n",
    "        ylabel=''\n",
    "    )\n",
    "    print(f\"mean agreement: {agreement_data['observed'].agreement.mean():.4f}\")\n",
    "    print(\n",
    "        f\"mean agreement at random: {agreement_data['baseline'].agreement.mean():.4f}\"\n",
    "    )\n",
    "\n",
    "    # # recourse\n",
    "    axs[1, i], observed, at_random = plot_recourse_wrapper(\n",
    "        axs[1, i],\n",
    "        predictions=predictions[n][task],\n",
    "        df=df_alln[n][mask],\n",
    "        bootstrap=False,\n",
    "        xlabel='',\n",
    "        ylabel=''\n",
    "    )\n",
    "\n",
    "    recourse_observed[n] = observed\n",
    "    recourse_at_random[n] = at_random\n",
    "\n",
    "    configure_legend(fig, axs, offset=0.2)\n",
    "\n",
    "axs[0, 0].set_ylabel(\"agreement\")\n",
    "axs[0,0].set_xlabel(\"fraction of model pairs\")\n",
    "# axs[0, len(tasks_to_plot) // 2].set_xlabel(\"fraction of model pairs\")\n",
    "\n",
    "axs[1, 0].set_ylabel(f\"fraction of\\n {'positive' if restrict_to_positive_label else 'negative'} predictions\")\n",
    "axs[1, 0].set_xlabel(f\"fraction of {'positive' if restrict_to_positive_label else 'negative'} instances\")\n",
    "\n",
    "\n",
    "file_name = build_filename()\n",
    "for ending in [\".png\", \".pdf\"]:\n",
    "    plt.savefig(FIGURES_PAPER_DIR / f\"num_shots_{file_name}{ending}\")\n",
    "print(file_name)\n",
    "\n",
    "plt.show()"
   ]
  },
  {
   "cell_type": "code",
   "execution_count": 19,
   "id": "5462e908",
   "metadata": {},
   "outputs": [
    {
     "name": "stdout",
     "output_type": "stream",
     "text": [
      "num shots            &   M  & \tno recourse & substantial recourse & full recourse\\\\\n",
      "4 &  34  &\t0.07&\t0.80&\t0.45\\\\\n",
      "8 &  28  &\t0.08&\t0.81&\t0.59\\\\\n",
      "10 &  35  &\t0.07&\t0.80&\t0.43\\\\\n"
     ]
    }
   ],
   "source": [
    "import numpy as np\n",
    "\n",
    "output = f\"{'num shots':20} &   M  & \\tno recourse & substantial recourse & full recourse\\\\\\\\\"\n",
    "\n",
    "for num in recourse_observed.keys():\n",
    "    M = predictions[num]['ACSIncome'].shape[1]\n",
    "    rec = recourse_observed[num]\n",
    "    frac_models = rec[:, 1]\n",
    "    frac_ind = rec[:, 0]\n",
    "    max_frac_no_rec = (\n",
    "        sum(frac_ind[frac_models == 0.0]) if sum(frac_models == 0.0) > 0 else 0.0\n",
    "    )\n",
    "    frac_limited_rec = (\n",
    "        sum(frac_ind[frac_models <= 0.5]) if sum(frac_models <= 0.5) > 0 else 0.0\n",
    "    )\n",
    "    frac_substantial_rec = 1 - frac_limited_rec\n",
    "    frac_full_rec = (\n",
    "        sum(frac_ind[np.isclose(frac_models, 1.0)])\n",
    "        if sum(np.isclose(frac_models, 1.0)) > 0\n",
    "        else 0.0\n",
    "    )\n",
    "    output += (\n",
    "        f\"\\n{num} & {M:3}  &\\t{max_frac_no_rec:.2f}\"\n",
    "        f\"&\\t{frac_substantial_rec:.2f}\"\n",
    "        f\"&\\t{frac_full_rec:.2f}\\\\\\\\\"\n",
    "    )\n",
    "\n",
    "print(output)"
   ]
  },
  {
   "cell_type": "code",
   "execution_count": null,
   "id": "d70616c3",
   "metadata": {},
   "outputs": [],
   "source": []
  }
 ],
 "metadata": {
  "kernelspec": {
   "display_name": "monoc-py311",
   "language": "python",
   "name": "python3"
  },
  "language_info": {
   "codemirror_mode": {
    "name": "ipython",
    "version": 3
   },
   "file_extension": ".py",
   "mimetype": "text/x-python",
   "name": "python",
   "nbconvert_exporter": "python",
   "pygments_lexer": "ipython3",
   "version": "3.11.11"
  }
 },
 "nbformat": 4,
 "nbformat_minor": 5
}
